{
 "cells": [
  {
   "cell_type": "markdown",
   "id": "d2561658",
   "metadata": {},
   "source": [
    "# Genre Classification"
   ]
  },
  {
   "cell_type": "markdown",
   "id": "7d44b0df",
   "metadata": {},
   "source": [
    "## Load in data"
   ]
  },
  {
   "cell_type": "code",
   "execution_count": 111,
   "id": "07c83a12",
   "metadata": {},
   "outputs": [
    {
     "name": "stdout",
     "output_type": "stream",
     "text": [
      "                                       title  \\\n",
      "0                                Animal Farm   \n",
      "1                         A Clockwork Orange   \n",
      "2                                 The Plague   \n",
      "3  An Enquiry Concerning Human Understanding   \n",
      "4                       A Fire Upon the Deep   \n",
      "\n",
      "                                               genre  \\\n",
      "0  {\"/m/016lj8\": \"Roman \\u00e0 clef\", \"/m/06nbt\":...   \n",
      "1  {\"/m/06n90\": \"Science Fiction\", \"/m/0l67h\": \"N...   \n",
      "2  {\"/m/02m4t\": \"Existentialism\", \"/m/02xlf\": \"Fi...   \n",
      "3                                                NaN   \n",
      "4  {\"/m/03lrw\": \"Hard science fiction\", \"/m/06n90...   \n",
      "\n",
      "                                             summary  \n",
      "0   Old Major, the old boar on the Manor Farm, ca...  \n",
      "1   Alex, a teenager living in near-future Englan...  \n",
      "2   The text of The Plague is divided into five p...  \n",
      "3   The argument of the Enquiry proceeds by a ser...  \n",
      "4   The novel posits that space around the Milky ...  \n"
     ]
    }
   ],
   "source": [
    "import pandas as pd\n",
    "from sklearn.feature_extraction.text import TfidfVectorizer\n",
    "\n",
    "# Read in data from file\n",
    "df = pd.read_csv('data/booksummaries.txt', header=None, sep='\\t')\n",
    "df.columns = ['wikipedia_article_id', 'freebase_id', 'title', 'author', 'pub_date', 'genre', 'summary']\n",
    "# Remove extraneous features - wikipedia_article_id, freebase_id, author, pub_date\n",
    "df = df.drop(labels=['wikipedia_article_id', 'freebase_id', 'author', 'pub_date'], axis=1)\n",
    "\n",
    "print(df.head())"
   ]
  },
  {
   "cell_type": "markdown",
   "id": "b69cc868",
   "metadata": {},
   "source": [
    "## Data Pre-Processing\n",
    "- Add spaces around special characters\n",
    "- Remove useless spaces and multiple newlines\n",
    "- Remove stopwords\n",
    "- Remove all books without genres, titles, or summaries"
   ]
  },
  {
   "cell_type": "code",
   "execution_count": 112,
   "id": "b7d25f74",
   "metadata": {},
   "outputs": [],
   "source": [
    "import re\n",
    "\n",
    "# example code taken from fast-bert\n",
    "def spec_add_spaces(t: str) -> str:\n",
    "    \"Add spaces around / and # in `t`. \\n\"\n",
    "    return re.sub(r\"([/#\\n])\", r\" \\1 \", t)\n",
    "\n",
    "def rm_useless_spaces(t: str) -> str:\n",
    "    \"Remove multiple spaces in `t`.\"\n",
    "    return re.sub(\" {2,}\", \" \", t)\n",
    "\n",
    "def replace_multi_newline(t: str) -> str:\n",
    "    return re.sub(r\"(\\n(\\s)*){2,}\", \"\\n\", t)\n",
    "\n",
    "def clean_text(input_text):\n",
    "    text = replace_multi_newline(input_text)\n",
    "    text = spec_add_spaces(text)\n",
    "    text = rm_useless_spaces(text)\n",
    "    text = text.strip()\n",
    "    return text"
   ]
  },
  {
   "cell_type": "code",
   "execution_count": 113,
   "id": "55c52066",
   "metadata": {},
   "outputs": [
    {
     "name": "stdout",
     "output_type": "stream",
     "text": [
      "Size of dataset before preprocessing: 16559\n",
      "Size of dataset after removing missing genres: 12841\n",
      "Size of dataset after removing missing titles: 12841\n",
      "Size of dataset after removing missing summaries: 12841\n",
      "Size of dataset after preprocessing: 12841\n"
     ]
    },
    {
     "name": "stderr",
     "output_type": "stream",
     "text": [
      "[nltk_data] Downloading package punkt to\n",
      "[nltk_data]     C:\\Users\\crzas\\AppData\\Roaming\\nltk_data...\n",
      "[nltk_data]   Package punkt is already up-to-date!\n",
      "[nltk_data] Downloading package averaged_perceptron_tagger to\n",
      "[nltk_data]     C:\\Users\\crzas\\AppData\\Roaming\\nltk_data...\n",
      "[nltk_data]   Package averaged_perceptron_tagger is already up-to-\n",
      "[nltk_data]       date!\n",
      "[nltk_data] Downloading package stopwords to\n",
      "[nltk_data]     C:\\Users\\crzas\\AppData\\Roaming\\nltk_data...\n",
      "[nltk_data]   Package stopwords is already up-to-date!\n"
     ]
    }
   ],
   "source": [
    "import nltk\n",
    "nltk.download('punkt')\n",
    "nltk.download('averaged_perceptron_tagger')\n",
    "nltk.download('stopwords')\n",
    "from nltk.tokenize import word_tokenize\n",
    "from nltk.corpus import stopwords\n",
    "\n",
    "print('Size of dataset before preprocessing:', len(df))\n",
    "\n",
    "# Remove any books which don't have genres\n",
    "df.dropna(subset=['genre'], inplace=True)\n",
    "\n",
    "print('Size of dataset after removing missing genres:', len(df))\n",
    "\n",
    "# Remove any books which don't have titles\n",
    "df.dropna(subset=['title'], inplace=True)\n",
    "\n",
    "print('Size of dataset after removing missing titles:', len(df))\n",
    "\n",
    "# Remove any books which don't have summaries\n",
    "df.dropna(subset=['summary'], inplace=True)\n",
    "\n",
    "print('Size of dataset after removing missing summaries:', len(df))\n",
    "print('Size of dataset after preprocessing:', len(df))\n",
    "\n",
    "# Tokenize titles & convert to lower case - add to tokenized_title column\n",
    "df['token_title'] = df['title'].apply(lambda x: nltk.word_tokenize(clean_text(x.lower())))\n",
    "\n",
    "# Tokenize summaries & convert to lower case - add to tokenized_summary column\n",
    "df['token_summary'] = df['summary'].apply(lambda x: nltk.word_tokenize(clean_text(x.lower())))\n",
    "\n",
    "# Remove all stop words from all summaries & titles\n",
    "stop = stopwords.words('english')\n",
    "df['token_summary'] = df['token_summary'].apply(lambda x: [word for word in x if word not in (stop)])\n",
    "df['token_title'] = df['token_title'].apply(lambda x: [word for word in x if word not in (stop)])\n",
    "df['token_summary'] = [' '.join(map(str, l)) for l in df['token_summary']]\n",
    "df['token_title'] = [' '.join(map(str, l)) for l in df['token_title']]\n",
    "df[\"title_summary\"] = df[\"token_title\"] + \" \" + df[\"token_summary\"]"
   ]
  },
  {
   "cell_type": "code",
   "execution_count": 114,
   "id": "d43f82cb",
   "metadata": {},
   "outputs": [
    {
     "name": "stdout",
     "output_type": "stream",
     "text": [
      "                            title  \\\n",
      "0                     Animal Farm   \n",
      "1              A Clockwork Orange   \n",
      "2                      The Plague   \n",
      "4            A Fire Upon the Deep   \n",
      "5  All Quiet on the Western Front   \n",
      "\n",
      "                                               genre  \\\n",
      "0  {\"/m/016lj8\": \"Roman \\u00e0 clef\", \"/m/06nbt\":...   \n",
      "1  {\"/m/06n90\": \"Science Fiction\", \"/m/0l67h\": \"N...   \n",
      "2  {\"/m/02m4t\": \"Existentialism\", \"/m/02xlf\": \"Fi...   \n",
      "4  {\"/m/03lrw\": \"Hard science fiction\", \"/m/06n90...   \n",
      "5  {\"/m/098tmk\": \"War novel\", \"/m/016lj8\": \"Roman...   \n",
      "\n",
      "                                             summary          token_title  \\\n",
      "0   Old Major, the old boar on the Manor Farm, ca...          animal farm   \n",
      "1   Alex, a teenager living in near-future Englan...     clockwork orange   \n",
      "2   The text of The Plague is divided into five p...               plague   \n",
      "4   The novel posits that space around the Milky ...       fire upon deep   \n",
      "5   The book tells the story of Paul Bäumer, a Ge...  quiet western front   \n",
      "\n",
      "                                       token_summary  \\\n",
      "0  old major , old boar manor farm , calls animal...   \n",
      "1  alex , teenager living near-future england , l...   \n",
      "2  text plague divided five parts . town oran , t...   \n",
      "4  novel posits space around milky way divided co...   \n",
      "5  book tells story paul bäumer , german soldier ...   \n",
      "\n",
      "                                       title_summary  \\\n",
      "0  animal farm old major , old boar manor farm , ...   \n",
      "1  clockwork orange alex , teenager living near-f...   \n",
      "2  plague text plague divided five parts . town o...   \n",
      "4  fire upon deep novel posits space around milky...   \n",
      "5  quiet western front book tells story paul bäum...   \n",
      "\n",
      "                                     formatted_genre  \n",
      "0  [Roman à clef, Satire, Children's literature, ...  \n",
      "1  [Science Fiction, Novella, Speculative fiction...  \n",
      "2  [Existentialism, Fiction, Absurdist fiction, N...  \n",
      "4  [Hard science fiction, Science Fiction, Specul...  \n",
      "5                          [War novel, Roman à clef]  \n"
     ]
    }
   ],
   "source": [
    "# Format the genre field\n",
    "formatted_genres = []\n",
    "genre_dict = dict()\n",
    "for g in df['genre']:\n",
    "    subg = []\n",
    "    genre_dict = eval(g)\n",
    "    for k in genre_dict.keys():\n",
    "        subg.append(genre_dict[k])\n",
    "    formatted_genres.append(subg)\n",
    "df['formatted_genre'] = formatted_genres\n",
    "print(df.head())"
   ]
  },
  {
   "cell_type": "code",
   "execution_count": 115,
   "id": "288047bb",
   "metadata": {},
   "outputs": [
    {
     "name": "stdout",
     "output_type": "stream",
     "text": [
      "# of unique genres: 227\n"
     ]
    }
   ],
   "source": [
    "genres = set()\n",
    "for x in df['formatted_genre']:\n",
    "    genres.update(x)\n",
    "print('# of unique genres:', len(genres))"
   ]
  },
  {
   "cell_type": "code",
   "execution_count": 116,
   "id": "39d0950e",
   "metadata": {},
   "outputs": [
    {
     "name": "stdout",
     "output_type": "stream",
     "text": [
      "Genre distribution: {5: 653, 6: 258, 4: 1428, 2: 3532, 1: 4555, 3: 2275, 9: 11, 7: 101, 8: 26, 11: 1, 10: 1}\n"
     ]
    },
    {
     "data": {
      "image/png": "[encoded data removed]",
      "text/plain": [
       "<Figure size 640x480 with 1 Axes>"
      ]
     },
     "metadata": {},
     "output_type": "display_data"
    }
   ],
   "source": [
    "import matplotlib.pyplot as plt \n",
    "\n",
    "genre_dist = dict()\n",
    "for x in df['formatted_genre']:\n",
    "    if len(x) in genre_dist.keys():\n",
    "        genre_dist[len(x)] += 1\n",
    "    else:\n",
    "        genre_dist[len(x)] = 1\n",
    "\n",
    "print(\"Genre distribution:\", genre_dist)\n",
    "\n",
    "plt.bar(range(len(genre_dist)), sorted(genre_dist.values(), reverse=True), align='center')\n",
    "plt.xticks(range(len(genre_dist)), sorted(list(genre_dist.keys())))\n",
    "plt.title(\"Genre Distribution of Books\")\n",
    "plt.xlabel(\"Number of Genres\")\n",
    "plt.ylabel(\"Number of Books\")\n",
    "plt.show()"
   ]
  },
  {
   "cell_type": "code",
   "execution_count": 117,
   "id": "090a1462",
   "metadata": {},
   "outputs": [
    {
     "name": "stdout",
     "output_type": "stream",
     "text": [
      "[('Fiction', 4747), ('Speculative fiction', 4314), ('Science Fiction', 2870), ('Novel', 2463), ('Fantasy', 2413), (\"Children's literature\", 2122), ('Mystery', 1396), ('Young adult literature', 825), ('Suspense', 765), ('Crime Fiction', 753), ('Historical novel', 654), ('Thriller', 568), ('Horror', 511), ('Romance novel', 435), ('Historical fiction', 388), ('Detective fiction', 341), ('Adventure novel', 330), ('Non-fiction', 230), ('Alternate history', 226), ('Spy fiction', 190), ('Comedy', 145), ('Dystopia', 127), ('Autobiography', 124), ('Satire', 123), ('Gothic fiction', 112), ('Comic novel', 104), ('Biography', 102), ('Novella', 87), ('War novel', 87), ('Short story', 78), ('Autobiographical novel', 77), ('History', 73), ('Utopian and dystopian fiction', 67), ('Memoir', 67), ('High fantasy', 66), ('Humour', 62), ('Techno-thriller', 59), ('Apocalyptic and post-apocalyptic fiction', 56), ('Picture book', 49), ('Role-playing game', 48), ('Philosophy', 47), ('Steampunk', 47), ('Paranormal romance', 46), ('Bildungsroman', 42), ('Western', 41), ('Gamebook', 39), ('Reference', 38), ('Black comedy', 38), ('Urban fantasy', 37), ('Literary fiction', 36), ('Military science fiction', 33), ('Sociology', 31), ('Sword and sorcery', 31), ('Epistolary novel', 30), ('Whodunit', 30), ('Roman à clef', 29), ('Absurdist fiction', 29), ('Drama', 29), ('Poetry', 28), ('Psychological novel', 26), ('Hard science fiction', 25), ('Magic realism', 25), ('Hardboiled', 24), ('Western fiction', 23), ('Adventure', 23), ('Dark fantasy', 23), ('Science', 22), ('True crime', 22), ('Travel', 21), ('Psychology', 21), ('Time travel', 20), ('Picaresque novel', 18), ('Wuxia', 18), ('Historical fantasy', 18), ('Graphic novel', 17), ('Parallel novel', 17), ('Cyberpunk', 16), ('Business', 16), ('Religion', 16), ('Erotica', 16), ('Lost World', 16), ('Parody', 15), ('Chivalric romance', 15), ('Vampire fiction', 15), ('Scientific romance', 14), ('Economics', 13), ('Politics', 13), ('Künstlerroman', 12), ('Mathematics', 12), ('Biographical novel', 12), ('Space opera', 12), ('Cozy', 11), ('Travel literature', 11), ('Chick lit', 11), ('Inspirational', 10), ('Music', 10), ('Comic book', 10), ('Nature', 10), ('Science fantasy', 10), ('Regency romance', 10), ('Play', 9), ('Fairy tale', 9), ('Tragicomedy', 9), ('Existentialism', 8), ('Popular science', 8), ('Literary realism', 8), ('Self-help', 7), ('Comic science fiction', 7), ('Feminist science fiction', 7), ('Historical whodunnit', 7), ('Personal journal', 7), ('Postmodernism', 7), ('Gay novel', 7), ('Sports', 7), ('Transhumanism', 6), ('Post-holocaust', 6), ('Industrial novel', 6), ('Comics', 6), ('Fantasy of manners', 6), ('Historical romance', 6), ('Anthology', 6), ('Contemporary fantasy', 6), ('Spirituality', 5), ('Zombies in popular culture', 5), ('Planetary romance', 5), ('Treatise', 5), ('Comic fantasy', 5), ('Locked room mystery', 5), ('Soft science fiction', 5), ('Campus novel', 5), ('Social science fiction', 5), ('Essay', 5), ('Urban fiction', 5), ('Mashup', 5), ('Religious text', 4), ('Invasion literature', 4), ('Farce', 4), ('Sea story', 4), ('Anthropology', 4), ('Supernatural', 4), ('Conspiracy fiction', 4), ('Ghost story', 4), ('Social novel', 4), ('Zombie', 4), ('Coming of age', 4), ('Edisonade', 4), ('Subterranean fiction', 4), ('Heroic fantasy', 4), ('Encyclopedia', 4), ('Prose', 4), ('Catastrophic literature', 3), ('Non-fiction novel', 3), ('Ergodic literature', 3), ('Social sciences', 3), ('Social commentary', 3), ('Political philosophy', 3), ('Serial', 3), ('Dying Earth subgenre', 3), ('Polemic', 3), ('Photography', 3), ('Creative nonfiction', 3), ('Juvenile fantasy', 2), ('Albino bias', 2), ('Postcyberpunk', 2), ('Comedy of manners', 2), ('Morality play', 2), ('Prose poetry', 2), ('Literary criticism', 2), ('Naval adventure', 2), ('Transgender and transsexual fiction', 2), ('Sword and planet', 2), ('LGBT literature', 2), ('Foreign legion', 2), ('Robinsonade', 2), ('Romantic comedy', 2), ('Metaphysics', 2), ('Education', 2), ('Cookbook', 2), ('Military history', 2), ('Modernism', 2), ('Light novel', 2), ('Fairytale fantasy', 2), ('Biopunk', 2), ('Computer Science', 1), ('Social criticism', 1), ('Anti-war', 1), ('Human extinction', 1), ('First-person narrative', 1), ('New Weird', 1), ('Cabal', 1), ('Conspiracy', 1), ('School story', 1), ('English public-school stories', 1), (\"Boys' school stories\", 1), ('Experimental literature', 1), ('Gay Themed', 1), ('Utopian fiction', 1), ('Future history', 1), ('Anti-nuclear', 1), ('Literary theory', 1), ('Elizabethan romance', 1), ('Pornography', 1), ('Georgian romance', 1), ('American Gothic Fiction', 1), ('Field guide', 1), ('Fable', 1), ('Bangsian fantasy', 1), ('Space western', 1), ('Fantastique', 1), ('Youth', 1), ('Medieval romance', 1), ('Bit Lit', 1), ('Collage', 1), ('Superhero fiction', 1), ('Marketing', 1), ('Colonial United States romance', 1), ('Low fantasy', 1), ('Police procedural', 1), ('Indian chick lit', 1), ('Autobiographical comics', 1), ('Fictional crossover', 1), ('Popular culture', 1), ('Neuroscience', 1), ('New York Times Best Seller list', 1), ('Epic Science Fiction and Fantasy', 1), ('Alien invasion', 1), ('Pastiche', 1)]\n"
     ]
    }
   ],
   "source": [
    "top_genre = dict()\n",
    "for x in df['formatted_genre']:\n",
    "    for g in x:\n",
    "        if g in top_genre.keys():\n",
    "            top_genre[g] += 1\n",
    "        else:\n",
    "            top_genre[g] = 1\n",
    "sorted_genre = sorted(top_genre.items(), key=lambda item: item[1], reverse=True)\n",
    "genre_freq = dict(sorted_genre)\n",
    "print(sorted_genre)"
   ]
  },
  {
   "cell_type": "code",
   "execution_count": 187,
   "id": "a84ec4a4",
   "metadata": {},
   "outputs": [
    {
     "data": {
      "image/png": "[encoded data removed]",
      "text/plain": [
       "<Figure size 640x480 with 1 Axes>"
      ]
     },
     "metadata": {},
     "output_type": "display_data"
    }
   ],
   "source": [
    "top_20_genres = dict(sorted_genre[:20])\n",
    "plt.bar(range(len(top_20_genres)), sorted(top_20_genres.values(), reverse=True), align='center')\n",
    "plt.xticks(range(len(top_20_genres)), sorted(list(top_20_genres.keys())))\n",
    "plt.title(\"Distribution of Genres\")\n",
    "plt.xlabel(\"Genre\")\n",
    "plt.xticks(rotation=90)\n",
    "plt.ylabel(\"Number of Books\")\n",
    "plt.show()"
   ]
  },
  {
   "cell_type": "code",
   "execution_count": 118,
   "id": "fa035737",
   "metadata": {},
   "outputs": [
    {
     "name": "stdout",
     "output_type": "stream",
     "text": [
      "['Fiction', 'Speculative fiction', 'Science Fiction', 'Novel', 'Fantasy', \"Children's literature\", 'Mystery', 'Young adult literature', 'Suspense', 'Crime Fiction', 'Historical novel', 'Thriller', 'Horror', 'Romance novel', 'Historical fiction', 'Detective fiction', 'Adventure novel', 'Non-fiction', 'Alternate history', 'Spy fiction', 'Comedy', 'Dystopia', 'Autobiography', 'Satire', 'Gothic fiction', 'Comic novel', 'Biography', 'Novella', 'War novel', 'Short story', 'Autobiographical novel', 'History', 'Utopian and dystopian fiction', 'Memoir', 'High fantasy', 'Humour', 'Techno-thriller', 'Apocalyptic and post-apocalyptic fiction', 'Picture book', 'Role-playing game', 'Philosophy', 'Steampunk', 'Paranormal romance', 'Bildungsroman', 'Western', 'Gamebook', 'Reference', 'Black comedy', 'Urban fantasy', 'Literary fiction', 'Military science fiction', 'Sociology', 'Sword and sorcery', 'Epistolary novel', 'Whodunit', 'Roman à clef', 'Absurdist fiction', 'Drama', 'Poetry', 'Psychological novel', 'Hard science fiction', 'Magic realism', 'Hardboiled', 'Western fiction', 'Adventure', 'Dark fantasy', 'Science', 'True crime', 'Travel', 'Psychology', 'Time travel', 'Picaresque novel', 'Wuxia', 'Historical fantasy', 'Graphic novel', 'Parallel novel', 'Cyberpunk', 'Business', 'Religion', 'Erotica', 'Lost World', 'Parody', 'Chivalric romance', 'Vampire fiction', 'Scientific romance', 'Economics', 'Politics', 'Künstlerroman', 'Mathematics', 'Biographical novel', 'Space opera', 'Cozy', 'Travel literature', 'Chick lit', 'Inspirational', 'Music', 'Comic book', 'Nature', 'Science fantasy', 'Regency romance', 'Play', 'Fairy tale', 'Tragicomedy', 'Existentialism', 'Popular science', 'Literary realism', 'Self-help', 'Comic science fiction', 'Feminist science fiction', 'Historical whodunnit', 'Personal journal', 'Postmodernism', 'Gay novel', 'Sports', 'Transhumanism', 'Post-holocaust', 'Industrial novel', 'Comics', 'Fantasy of manners', 'Historical romance', 'Anthology', 'Contemporary fantasy', 'Spirituality', 'Zombies in popular culture', 'Planetary romance', 'Treatise', 'Comic fantasy', 'Locked room mystery', 'Soft science fiction', 'Campus novel', 'Social science fiction', 'Essay', 'Urban fiction', 'Mashup']\n"
     ]
    }
   ],
   "source": [
    "new_columns = []\n",
    "#ignore = ['Fiction', 'Novel', 'Children\\'s literature', 'Non-fiction', 'Novella']\n",
    "ignore = []\n",
    "for g in genre_freq.keys():\n",
    "    if genre_freq[g] >= 5 and g not in ignore:\n",
    "        new_columns.append(g)\n",
    "        \n",
    "print(new_columns)"
   ]
  },
  {
   "cell_type": "code",
   "execution_count": 119,
   "id": "956bfbb3",
   "metadata": {},
   "outputs": [
    {
     "name": "stdout",
     "output_type": "stream",
     "text": [
      "                            title  \\\n",
      "0                     Animal Farm   \n",
      "1              A Clockwork Orange   \n",
      "2                      The Plague   \n",
      "4            A Fire Upon the Deep   \n",
      "5  All Quiet on the Western Front   \n",
      "\n",
      "                                               genre  \\\n",
      "0  {\"/m/016lj8\": \"Roman \\u00e0 clef\", \"/m/06nbt\":...   \n",
      "1  {\"/m/06n90\": \"Science Fiction\", \"/m/0l67h\": \"N...   \n",
      "2  {\"/m/02m4t\": \"Existentialism\", \"/m/02xlf\": \"Fi...   \n",
      "4  {\"/m/03lrw\": \"Hard science fiction\", \"/m/06n90...   \n",
      "5  {\"/m/098tmk\": \"War novel\", \"/m/016lj8\": \"Roman...   \n",
      "\n",
      "                                             summary          token_title  \\\n",
      "0   Old Major, the old boar on the Manor Farm, ca...          animal farm   \n",
      "1   Alex, a teenager living in near-future Englan...     clockwork orange   \n",
      "2   The text of The Plague is divided into five p...               plague   \n",
      "4   The novel posits that space around the Milky ...       fire upon deep   \n",
      "5   The book tells the story of Paul Bäumer, a Ge...  quiet western front   \n",
      "\n",
      "                                       token_summary  \\\n",
      "0  old major , old boar manor farm , calls animal...   \n",
      "1  alex , teenager living near-future england , l...   \n",
      "2  text plague divided five parts . town oran , t...   \n",
      "4  novel posits space around milky way divided co...   \n",
      "5  book tells story paul bäumer , german soldier ...   \n",
      "\n",
      "                                       title_summary  \\\n",
      "0  animal farm old major , old boar manor farm , ...   \n",
      "1  clockwork orange alex , teenager living near-f...   \n",
      "2  plague text plague divided five parts . town o...   \n",
      "4  fire upon deep novel posits space around milky...   \n",
      "5  quiet western front book tells story paul bäum...   \n",
      "\n",
      "                                     formatted_genre  Fiction  \\\n",
      "0  [Roman à clef, Satire, Children's literature, ...        0   \n",
      "1  [Science Fiction, Novella, Speculative fiction...        0   \n",
      "2  [Existentialism, Fiction, Absurdist fiction, N...        0   \n",
      "4  [Hard science fiction, Science Fiction, Specul...        0   \n",
      "5                          [War novel, Roman à clef]        0   \n",
      "\n",
      "   Speculative fiction  Science Fiction  ...  Planetary romance  Treatise  \\\n",
      "0                    0                0  ...                  0         0   \n",
      "1                    0                0  ...                  0         0   \n",
      "2                    0                0  ...                  0         0   \n",
      "4                    0                0  ...                  0         0   \n",
      "5                    0                0  ...                  0         0   \n",
      "\n",
      "   Comic fantasy  Locked room mystery  Soft science fiction  Campus novel  \\\n",
      "0              0                    0                     0             0   \n",
      "1              0                    0                     0             0   \n",
      "2              0                    0                     0             0   \n",
      "4              0                    0                     0             0   \n",
      "5              0                    0                     0             0   \n",
      "\n",
      "   Social science fiction  Essay  Urban fiction  Mashup  \n",
      "0                       0      0              0       0  \n",
      "1                       0      0              0       0  \n",
      "2                       0      0              0       0  \n",
      "4                       0      0              0       0  \n",
      "5                       0      0              0       0  \n",
      "\n",
      "[5 rows x 141 columns]\n"
     ]
    }
   ],
   "source": [
    "default_value = 0\n",
    "df = pd.concat([df, pd.DataFrame({col: default_value for col in new_columns}, index=df.index)], axis=1)\n",
    "\n",
    "print(df.head())"
   ]
  },
  {
   "cell_type": "code",
   "execution_count": 120,
   "id": "8ae38075",
   "metadata": {},
   "outputs": [],
   "source": [
    "for index,row in df.iterrows():\n",
    "    for g in row['formatted_genre']:\n",
    "        if g in new_columns:\n",
    "            df.at[index, g] = 1"
   ]
  },
  {
   "cell_type": "code",
   "execution_count": 121,
   "id": "14d7d441",
   "metadata": {},
   "outputs": [
    {
     "name": "stdout",
     "output_type": "stream",
     "text": [
      "Index(['title', 'genre', 'summary', 'token_title', 'token_summary',\n",
      "       'title_summary', 'formatted_genre', 'Fiction', 'Speculative fiction',\n",
      "       'Science Fiction',\n",
      "       ...\n",
      "       'Planetary romance', 'Treatise', 'Comic fantasy', 'Locked room mystery',\n",
      "       'Soft science fiction', 'Campus novel', 'Social science fiction',\n",
      "       'Essay', 'Urban fiction', 'Mashup'],\n",
      "      dtype='object', length=141)\n",
      "Index(['title', 'token_title', 'token_summary', 'title_summary', 'Fiction',\n",
      "       'Speculative fiction', 'Science Fiction', 'Novel', 'Fantasy',\n",
      "       'Children's literature',\n",
      "       ...\n",
      "       'Planetary romance', 'Treatise', 'Comic fantasy', 'Locked room mystery',\n",
      "       'Soft science fiction', 'Campus novel', 'Social science fiction',\n",
      "       'Essay', 'Urban fiction', 'Mashup'],\n",
      "      dtype='object', length=138)\n"
     ]
    }
   ],
   "source": [
    "print(df.columns)\n",
    "df = df.drop(labels=['genre', 'summary', 'formatted_genre'], axis=1)\n",
    "print(df.columns)"
   ]
  },
  {
   "cell_type": "code",
   "execution_count": 122,
   "id": "32b8efad",
   "metadata": {},
   "outputs": [
    {
     "data": {
      "text/html": [
       "<style>#sk-container-id-7 {color: black;}#sk-container-id-7 pre{padding: 0;}#sk-container-id-7 div.sk-toggleable {background-color: white;}#sk-container-id-7 label.sk-toggleable__label {cursor: pointer;display: block;width: 100%;margin-bottom: 0;padding: 0.3em;box-sizing: border-box;text-align: center;}#sk-container-id-7 label.sk-toggleable__label-arrow:before {content: \"▸\";float: left;margin-right: 0.25em;color: #696969;}#sk-container-id-7 label.sk-toggleable__label-arrow:hover:before {color: black;}#sk-container-id-7 div.sk-estimator:hover label.sk-toggleable__label-arrow:before {color: black;}#sk-container-id-7 div.sk-toggleable__content {max-height: 0;max-width: 0;overflow: hidden;text-align: left;background-color: #f0f8ff;}#sk-container-id-7 div.sk-toggleable__content pre {margin: 0.2em;color: black;border-radius: 0.25em;background-color: #f0f8ff;}#sk-container-id-7 input.sk-toggleable__control:checked~div.sk-toggleable__content {max-height: 200px;max-width: 100%;overflow: auto;}#sk-container-id-7 input.sk-toggleable__control:checked~label.sk-toggleable__label-arrow:before {content: \"▾\";}#sk-container-id-7 div.sk-estimator input.sk-toggleable__control:checked~label.sk-toggleable__label {background-color: #d4ebff;}#sk-container-id-7 div.sk-label input.sk-toggleable__control:checked~label.sk-toggleable__label {background-color: #d4ebff;}#sk-container-id-7 input.sk-hidden--visually {border: 0;clip: rect(1px 1px 1px 1px);clip: rect(1px, 1px, 1px, 1px);height: 1px;margin: -1px;overflow: hidden;padding: 0;position: absolute;width: 1px;}#sk-container-id-7 div.sk-estimator {font-family: monospace;background-color: #f0f8ff;border: 1px dotted black;border-radius: 0.25em;box-sizing: border-box;margin-bottom: 0.5em;}#sk-container-id-7 div.sk-estimator:hover {background-color: #d4ebff;}#sk-container-id-7 div.sk-parallel-item::after {content: \"\";width: 100%;border-bottom: 1px solid gray;flex-grow: 1;}#sk-container-id-7 div.sk-label:hover label.sk-toggleable__label {background-color: #d4ebff;}#sk-container-id-7 div.sk-serial::before {content: \"\";position: absolute;border-left: 1px solid gray;box-sizing: border-box;top: 0;bottom: 0;left: 50%;z-index: 0;}#sk-container-id-7 div.sk-serial {display: flex;flex-direction: column;align-items: center;background-color: white;padding-right: 0.2em;padding-left: 0.2em;position: relative;}#sk-container-id-7 div.sk-item {position: relative;z-index: 1;}#sk-container-id-7 div.sk-parallel {display: flex;align-items: stretch;justify-content: center;background-color: white;position: relative;}#sk-container-id-7 div.sk-item::before, #sk-container-id-7 div.sk-parallel-item::before {content: \"\";position: absolute;border-left: 1px solid gray;box-sizing: border-box;top: 0;bottom: 0;left: 50%;z-index: -1;}#sk-container-id-7 div.sk-parallel-item {display: flex;flex-direction: column;z-index: 1;position: relative;background-color: white;}#sk-container-id-7 div.sk-parallel-item:first-child::after {align-self: flex-end;width: 50%;}#sk-container-id-7 div.sk-parallel-item:last-child::after {align-self: flex-start;width: 50%;}#sk-container-id-7 div.sk-parallel-item:only-child::after {width: 0;}#sk-container-id-7 div.sk-dashed-wrapped {border: 1px dashed gray;margin: 0 0.4em 0.5em 0.4em;box-sizing: border-box;padding-bottom: 0.4em;background-color: white;}#sk-container-id-7 div.sk-label label {font-family: monospace;font-weight: bold;display: inline-block;line-height: 1.2em;}#sk-container-id-7 div.sk-label-container {text-align: center;}#sk-container-id-7 div.sk-container {/* jupyter's `normalize.less` sets `[hidden] { display: none; }` but bootstrap.min.css set `[hidden] { display: none !important; }` so we also need the `!important` here to be able to override the default hidden behavior on the sphinx rendered scikit-learn.org. See: https://github.com/scikit-learn/scikit-learn/issues/21755 */display: inline-block !important;position: relative;}#sk-container-id-7 div.sk-text-repr-fallback {display: none;}</style><div id=\"sk-container-id-7\" class=\"sk-top-container\"><div class=\"sk-text-repr-fallback\"><pre>TfidfVectorizer(max_df=0.9, max_features=2500)</pre><b>In a Jupyter environment, please rerun this cell to show the HTML representation or trust the notebook. <br />On GitHub, the HTML representation is unable to render, please try loading this page with nbviewer.org.</b></div><div class=\"sk-container\" hidden><div class=\"sk-item\"><div class=\"sk-estimator sk-toggleable\"><input class=\"sk-toggleable__control sk-hidden--visually\" id=\"sk-estimator-id-7\" type=\"checkbox\" checked><label for=\"sk-estimator-id-7\" class=\"sk-toggleable__label sk-toggleable__label-arrow\">TfidfVectorizer</label><div class=\"sk-toggleable__content\"><pre>TfidfVectorizer(max_df=0.9, max_features=2500)</pre></div></div></div></div></div>"
      ],
      "text/plain": [
       "TfidfVectorizer(max_df=0.9, max_features=2500)"
      ]
     },
     "execution_count": 122,
     "metadata": {},
     "output_type": "execute_result"
    }
   ],
   "source": [
    "import numpy as np\n",
    "df = df.sample(frac=1)\n",
    "\n",
    "X = df[df.columns[:4]]\n",
    "y = np.asarray(df[df.columns[4:]])\n",
    "\n",
    "vectorizer = TfidfVectorizer(max_features=2500, max_df=0.9)\n",
    "vectorizer.fit(X[\"title_summary\"])"
   ]
  },
  {
   "cell_type": "code",
   "execution_count": 123,
   "id": "072cb32c",
   "metadata": {},
   "outputs": [],
   "source": [
    "from sklearn.model_selection import train_test_split\n",
    "\n",
    "X_train, X_test, y_train, y_test = train_test_split(X, y, test_size=0.2)\n",
    "X_train_tfidf = vectorizer.transform(X_train[\"title_summary\"])\n",
    "X_test_tfidf = vectorizer.transform(X_test[\"title_summary\"])"
   ]
  },
  {
   "cell_type": "code",
   "execution_count": 124,
   "id": "bb006679",
   "metadata": {},
   "outputs": [],
   "source": [
    "from sklearn.multioutput import MultiOutputClassifier\n",
    "from sklearn.linear_model import LogisticRegression\n",
    "from sklearn.metrics import accuracy_score\n",
    "from sklearn.metrics import hamming_loss"
   ]
  },
  {
   "cell_type": "code",
   "execution_count": 125,
   "id": "568b54c3",
   "metadata": {},
   "outputs": [
    {
     "name": "stdout",
     "output_type": "stream",
     "text": [
      "Accuracy Score:  0.0650058388478007\n",
      "Hamming Loss:  0.02\n"
     ]
    }
   ],
   "source": [
    "# Logistic Regression\n",
    "lr = LogisticRegression(class_weight=\"balanced\",    #accounts for class imbalance\n",
    "multi_class =\"multinomial\", #accounts for multiclass\n",
    ")\n",
    "clf_1 = MultiOutputClassifier(lr)\n",
    "clf_1.fit(X_train_tfidf, y_train)\n",
    "prediction_1 = clf_1.predict(X_test_tfidf)\n",
    "print('Accuracy Score: ', accuracy_score(y_test, prediction_1))\n",
    "print('Hamming Loss: ', round(hamming_loss(y_test, prediction_1), 2))"
   ]
  },
  {
   "cell_type": "code",
   "execution_count": 80,
   "id": "4d48af70",
   "metadata": {},
   "outputs": [],
   "source": [
    "def getGenreNames(cats):\n",
    "    genres = []\n",
    "    for i in range(len(cats)):\n",
    "        if cats[i] == 1:\n",
    "            genres.append(new_columns[i])\n",
    "    return genres\n",
    "\n",
    "import csv\n",
    "\n",
    "fields = ['Title', 'Actual Genres', 'Predicted Genres']\n",
    "rows = []\n",
    "\n",
    "for i in range(len(y_test)):\n",
    "    row = []\n",
    "    row.append(X_test.iloc[i]['title'])\n",
    "    row.append(getGenreNames(y_test[i]))\n",
    "    row.append(getGenreNames(prediction_1[i]))\n",
    "    rows.append(row)\n",
    "\n",
    "with open('genre_classifications.csv', 'w', encoding=\"utf-8\") as csvfile:\n",
    "    csvwriter = csv.writer(csvfile)\n",
    "    csvwriter.writerow(fields)\n",
    "    csvwriter.writerows(rows)"
   ]
  },
  {
   "cell_type": "markdown",
   "id": "1cc09930",
   "metadata": {},
   "source": [
    "# Genre Recommendations"
   ]
  },
  {
   "cell_type": "markdown",
   "id": "d64aeab1",
   "metadata": {},
   "source": [
    "## Load in user data"
   ]
  },
  {
   "cell_type": "code",
   "execution_count": 126,
   "id": "c1b907ed",
   "metadata": {},
   "outputs": [],
   "source": [
    "# Read in data from file & remove extraneous columns\n",
    "ratings = pd.read_csv('data/Books_rating.csv')"
   ]
  },
  {
   "cell_type": "code",
   "execution_count": 127,
   "id": "82e15d3d",
   "metadata": {},
   "outputs": [
    {
     "data": {
      "text/html": [
       "<div>\n",
       "<style scoped>\n",
       "    .dataframe tbody tr th:only-of-type {\n",
       "        vertical-align: middle;\n",
       "    }\n",
       "\n",
       "    .dataframe tbody tr th {\n",
       "        vertical-align: top;\n",
       "    }\n",
       "\n",
       "    .dataframe thead th {\n",
       "        text-align: right;\n",
       "    }\n",
       "</style>\n",
       "<table border=\"1\" class=\"dataframe\">\n",
       "  <thead>\n",
       "    <tr style=\"text-align: right;\">\n",
       "      <th></th>\n",
       "      <th>Id</th>\n",
       "      <th>Title</th>\n",
       "      <th>Price</th>\n",
       "      <th>User_id</th>\n",
       "      <th>profileName</th>\n",
       "      <th>review/helpfulness</th>\n",
       "      <th>review/score</th>\n",
       "      <th>review/time</th>\n",
       "      <th>review/summary</th>\n",
       "      <th>review/text</th>\n",
       "    </tr>\n",
       "  </thead>\n",
       "  <tbody>\n",
       "    <tr>\n",
       "      <th>0</th>\n",
       "      <td>1882931173</td>\n",
       "      <td>Its Only Art If Its Well Hung!</td>\n",
       "      <td>NaN</td>\n",
       "      <td>AVCGYZL8FQQTD</td>\n",
       "      <td>Jim of Oz \"jim-of-oz\"</td>\n",
       "      <td>7/7</td>\n",
       "      <td>4.0</td>\n",
       "      <td>940636800</td>\n",
       "      <td>Nice collection of Julie Strain images</td>\n",
       "      <td>This is only for Julie Strain fans. It's a col...</td>\n",
       "    </tr>\n",
       "    <tr>\n",
       "      <th>1</th>\n",
       "      <td>0826414346</td>\n",
       "      <td>Dr. Seuss: American Icon</td>\n",
       "      <td>NaN</td>\n",
       "      <td>A30TK6U7DNS82R</td>\n",
       "      <td>Kevin Killian</td>\n",
       "      <td>10/10</td>\n",
       "      <td>5.0</td>\n",
       "      <td>1095724800</td>\n",
       "      <td>Really Enjoyed It</td>\n",
       "      <td>I don't care much for Dr. Seuss but after read...</td>\n",
       "    </tr>\n",
       "    <tr>\n",
       "      <th>2</th>\n",
       "      <td>0826414346</td>\n",
       "      <td>Dr. Seuss: American Icon</td>\n",
       "      <td>NaN</td>\n",
       "      <td>A3UH4UZ4RSVO82</td>\n",
       "      <td>John Granger</td>\n",
       "      <td>10/11</td>\n",
       "      <td>5.0</td>\n",
       "      <td>1078790400</td>\n",
       "      <td>Essential for every personal and Public Library</td>\n",
       "      <td>If people become the books they read and if \"t...</td>\n",
       "    </tr>\n",
       "    <tr>\n",
       "      <th>3</th>\n",
       "      <td>0826414346</td>\n",
       "      <td>Dr. Seuss: American Icon</td>\n",
       "      <td>NaN</td>\n",
       "      <td>A2MVUWT453QH61</td>\n",
       "      <td>Roy E. Perry \"amateur philosopher\"</td>\n",
       "      <td>7/7</td>\n",
       "      <td>4.0</td>\n",
       "      <td>1090713600</td>\n",
       "      <td>Phlip Nel gives silly Seuss a serious treatment</td>\n",
       "      <td>Theodore Seuss Geisel (1904-1991), aka &amp;quot;D...</td>\n",
       "    </tr>\n",
       "    <tr>\n",
       "      <th>4</th>\n",
       "      <td>0826414346</td>\n",
       "      <td>Dr. Seuss: American Icon</td>\n",
       "      <td>NaN</td>\n",
       "      <td>A22X4XUPKF66MR</td>\n",
       "      <td>D. H. Richards \"ninthwavestore\"</td>\n",
       "      <td>3/3</td>\n",
       "      <td>4.0</td>\n",
       "      <td>1107993600</td>\n",
       "      <td>Good academic overview</td>\n",
       "      <td>Philip Nel - Dr. Seuss: American IconThis is b...</td>\n",
       "    </tr>\n",
       "    <tr>\n",
       "      <th>5</th>\n",
       "      <td>0826414346</td>\n",
       "      <td>Dr. Seuss: American Icon</td>\n",
       "      <td>NaN</td>\n",
       "      <td>A2F6NONFUDB6UK</td>\n",
       "      <td>Malvin</td>\n",
       "      <td>2/2</td>\n",
       "      <td>4.0</td>\n",
       "      <td>1127174400</td>\n",
       "      <td>One of America's greatest creative talents</td>\n",
       "      <td>\"Dr. Seuss: American Icon\" by Philip Nel is a ...</td>\n",
       "    </tr>\n",
       "    <tr>\n",
       "      <th>6</th>\n",
       "      <td>0826414346</td>\n",
       "      <td>Dr. Seuss: American Icon</td>\n",
       "      <td>NaN</td>\n",
       "      <td>A14OJS0VWMOSWO</td>\n",
       "      <td>Midwest Book Review</td>\n",
       "      <td>3/4</td>\n",
       "      <td>5.0</td>\n",
       "      <td>1100131200</td>\n",
       "      <td>A memorably excellent survey of Dr. Seuss' man...</td>\n",
       "      <td>Theodor Seuss Giesel was best known as 'Dr. Se...</td>\n",
       "    </tr>\n",
       "    <tr>\n",
       "      <th>7</th>\n",
       "      <td>0826414346</td>\n",
       "      <td>Dr. Seuss: American Icon</td>\n",
       "      <td>NaN</td>\n",
       "      <td>A2RSSXTDZDUSH4</td>\n",
       "      <td>J. Squire</td>\n",
       "      <td>0/0</td>\n",
       "      <td>5.0</td>\n",
       "      <td>1231200000</td>\n",
       "      <td>Academia At It's Best</td>\n",
       "      <td>When I recieved this book as a gift for Christ...</td>\n",
       "    </tr>\n",
       "    <tr>\n",
       "      <th>8</th>\n",
       "      <td>0826414346</td>\n",
       "      <td>Dr. Seuss: American Icon</td>\n",
       "      <td>NaN</td>\n",
       "      <td>A25MD5I2GUIW6W</td>\n",
       "      <td>J. P. HIGBED \"big fellow\"</td>\n",
       "      <td>0/0</td>\n",
       "      <td>5.0</td>\n",
       "      <td>1209859200</td>\n",
       "      <td>And to think that I read it on the tram!</td>\n",
       "      <td>Trams (or any public transport) are not usuall...</td>\n",
       "    </tr>\n",
       "    <tr>\n",
       "      <th>9</th>\n",
       "      <td>0826414346</td>\n",
       "      <td>Dr. Seuss: American Icon</td>\n",
       "      <td>NaN</td>\n",
       "      <td>A3VA4XFS5WNJO3</td>\n",
       "      <td>Donald Burnside</td>\n",
       "      <td>3/5</td>\n",
       "      <td>4.0</td>\n",
       "      <td>1076371200</td>\n",
       "      <td>Fascinating account of a genius at work</td>\n",
       "      <td>As far as I am aware, this is the first book-l...</td>\n",
       "    </tr>\n",
       "  </tbody>\n",
       "</table>\n",
       "</div>"
      ],
      "text/plain": [
       "           Id                           Title  Price         User_id  \\\n",
       "0  1882931173  Its Only Art If Its Well Hung!    NaN   AVCGYZL8FQQTD   \n",
       "1  0826414346        Dr. Seuss: American Icon    NaN  A30TK6U7DNS82R   \n",
       "2  0826414346        Dr. Seuss: American Icon    NaN  A3UH4UZ4RSVO82   \n",
       "3  0826414346        Dr. Seuss: American Icon    NaN  A2MVUWT453QH61   \n",
       "4  0826414346        Dr. Seuss: American Icon    NaN  A22X4XUPKF66MR   \n",
       "5  0826414346        Dr. Seuss: American Icon    NaN  A2F6NONFUDB6UK   \n",
       "6  0826414346        Dr. Seuss: American Icon    NaN  A14OJS0VWMOSWO   \n",
       "7  0826414346        Dr. Seuss: American Icon    NaN  A2RSSXTDZDUSH4   \n",
       "8  0826414346        Dr. Seuss: American Icon    NaN  A25MD5I2GUIW6W   \n",
       "9  0826414346        Dr. Seuss: American Icon    NaN  A3VA4XFS5WNJO3   \n",
       "\n",
       "                          profileName review/helpfulness  review/score  \\\n",
       "0               Jim of Oz \"jim-of-oz\"                7/7           4.0   \n",
       "1                       Kevin Killian              10/10           5.0   \n",
       "2                        John Granger              10/11           5.0   \n",
       "3  Roy E. Perry \"amateur philosopher\"                7/7           4.0   \n",
       "4     D. H. Richards \"ninthwavestore\"                3/3           4.0   \n",
       "5                              Malvin                2/2           4.0   \n",
       "6                 Midwest Book Review                3/4           5.0   \n",
       "7                           J. Squire                0/0           5.0   \n",
       "8           J. P. HIGBED \"big fellow\"                0/0           5.0   \n",
       "9                     Donald Burnside                3/5           4.0   \n",
       "\n",
       "   review/time                                     review/summary  \\\n",
       "0    940636800             Nice collection of Julie Strain images   \n",
       "1   1095724800                                  Really Enjoyed It   \n",
       "2   1078790400    Essential for every personal and Public Library   \n",
       "3   1090713600    Phlip Nel gives silly Seuss a serious treatment   \n",
       "4   1107993600                             Good academic overview   \n",
       "5   1127174400         One of America's greatest creative talents   \n",
       "6   1100131200  A memorably excellent survey of Dr. Seuss' man...   \n",
       "7   1231200000                              Academia At It's Best   \n",
       "8   1209859200           And to think that I read it on the tram!   \n",
       "9   1076371200            Fascinating account of a genius at work   \n",
       "\n",
       "                                         review/text  \n",
       "0  This is only for Julie Strain fans. It's a col...  \n",
       "1  I don't care much for Dr. Seuss but after read...  \n",
       "2  If people become the books they read and if \"t...  \n",
       "3  Theodore Seuss Geisel (1904-1991), aka &quot;D...  \n",
       "4  Philip Nel - Dr. Seuss: American IconThis is b...  \n",
       "5  \"Dr. Seuss: American Icon\" by Philip Nel is a ...  \n",
       "6  Theodor Seuss Giesel was best known as 'Dr. Se...  \n",
       "7  When I recieved this book as a gift for Christ...  \n",
       "8  Trams (or any public transport) are not usuall...  \n",
       "9  As far as I am aware, this is the first book-l...  "
      ]
     },
     "execution_count": 127,
     "metadata": {},
     "output_type": "execute_result"
    }
   ],
   "source": [
    "ratings.head(10)"
   ]
  },
  {
   "cell_type": "code",
   "execution_count": 128,
   "id": "033463f2",
   "metadata": {},
   "outputs": [
    {
     "name": "stdout",
     "output_type": "stream",
     "text": [
      "                 Id                                              Title  \\\n",
      "5        0826414346                           Dr. Seuss: American Icon   \n",
      "81192    B0001BJECI  Pigs at the Trough: How Corporate Greed and Po...   \n",
      "97694    0814767109  The Silicon Valley of Dreams: Environmental In...   \n",
      "127002   0393322963  The Bush Dyslexicon: Observations on a Nationa...   \n",
      "154774   B00007FYI8  Database Nation: The Death of Privacy in the 2...   \n",
      "301366   0393060942  Kingdom Coming: The Rise of Christian Nationalism   \n",
      "390743   B000GLYWH0                           Manufacturing Discontent   \n",
      "441277   1567513220  The Profits of Extermination: Big Mining in Co...   \n",
      "553531   0743530195  Reefer Madness: Sex, Drugs, and Cheap Labor in...   \n",
      "596160   0415351820  Beauty and Misogyny: Harmful Cultural Practice...   \n",
      "697505   0226210723  Projections of Power: Framing News, Public Opi...   \n",
      "742508   079145844X  The Micro-Politics of Capital: Marx and the Pr...   \n",
      "839224   1551642603  Filtering the News: Essays on Herman and Choms...   \n",
      "922138   1583671374         Socialist Register 2006: Telling the Truth   \n",
      "997706   1844675335  Hugo Chavez: The Bolivarian Revolution in Vene...   \n",
      "1160639  0743530209  Reefer Madness Sex, Drugs, and Cheap Labor in ...   \n",
      "1175929  B000MAH5NS  Illicit: How Smugglers, Traffickers and Counte...   \n",
      "1220691  B000MSE754  Jihad vs. McWorld: Terrorism's Challenge to De...   \n",
      "1265995  1583225579  Information War: American Propaganda, Free Spe...   \n",
      "1283124  0745313523                     The Cancer Stage of Capitalism   \n",
      "1493632  1565849353  The War at Home: The Domestic Costs of Bush's ...   \n",
      "1499769  1583670831  Killing Me Softly: Toxic Waste, Corporate Prof...   \n",
      "1509631  1583670882  The Making of a Cybertariat: Virtual Work in a...   \n",
      "1670755  0679432272  America's Prisoner: The Memoirs of Manuel Noriega   \n",
      "1688128  0743246470  It's Still the Economy, Stupid : George W. Bus...   \n",
      "1799931  0520235398  Genders in Production: Making Workers in Mexic...   \n",
      "1887282  0822338343  Fear of Small Numbers: An Essay on the Geograp...   \n",
      "2035888  1856496007  Eco-Socialism or Eco-Capitalism?: A Critical A...   \n",
      "2102818  0520224655  Food Politics: How the Food Industry Influence...   \n",
      "2145488  0738204838  Democracy At Risk: Rescuing Main Street From W...   \n",
      "2276759  0742526976  Ecofeminism and Globalization: Exploring Cultu...   \n",
      "2277609  0742526984  Ecofeminism and Globalization: Exploring Cultu...   \n",
      "2290755  1844670651  Spaces of Global Capitalism: A Theory of Uneve...   \n",
      "2290827  B000GW3DBK                        Spaces of Global Capitalism   \n",
      "2436778  0375707379  A Consumers' Republic: The Politics of Mass Co...   \n",
      "2506494  B0006L89L0       Branded: The Buying and Selling of Teenagers   \n",
      "2587531  B000KXR6C2  Divine Right of Capital, The : Dethroning the ...   \n",
      "2637908  B000IOF5GC  Drawing the Line: Science and the Case for Ani...   \n",
      "2824648  1565845234  Acts of Resistance: Against the Tyranny of the...   \n",
      "2954196  0415966329            Wonder Women: Feminisms and Superheroes   \n",
      "\n",
      "          Price         User_id profileName review/helpfulness  review/score  \\\n",
      "5           NaN  A2F6NONFUDB6UK      Malvin                2/2           4.0   \n",
      "81192       NaN  A2F6NONFUDB6UK      Malvin              12/14           5.0   \n",
      "97694     19.46  A2F6NONFUDB6UK      Malvin                5/5           5.0   \n",
      "127002    21.95  A2F6NONFUDB6UK      Malvin              25/30           5.0   \n",
      "154774      NaN  A2F6NONFUDB6UK      Malvin                3/4           3.0   \n",
      "301366      NaN  A2F6NONFUDB6UK      Malvin            154/167           5.0   \n",
      "390743      NaN  A2F6NONFUDB6UK      Malvin              18/19           4.0   \n",
      "441277    14.95  A2F6NONFUDB6UK      Malvin              14/15           4.0   \n",
      "553531      NaN  A2F6NONFUDB6UK      Malvin              62/75           3.0   \n",
      "596160    25.32  A2F6NONFUDB6UK      Malvin              21/25           5.0   \n",
      "697505    13.89  A2F6NONFUDB6UK      Malvin                4/4           5.0   \n",
      "742508    26.67  A2F6NONFUDB6UK      Malvin              14/14           5.0   \n",
      "839224    24.99  A2F6NONFUDB6UK      Malvin              13/13           5.0   \n",
      "922138    25.00  A2F6NONFUDB6UK      Malvin                4/4           5.0   \n",
      "997706    18.00  A2F6NONFUDB6UK      Malvin              37/50           5.0   \n",
      "1160639     NaN  A2F6NONFUDB6UK      Malvin              62/75           3.0   \n",
      "1175929     NaN  A2F6NONFUDB6UK      Malvin                7/9           4.0   \n",
      "1220691     NaN  A2F6NONFUDB6UK      Malvin              19/22           5.0   \n",
      "1265995     NaN  A2F6NONFUDB6UK      Malvin              60/67           5.0   \n",
      "1283124   74.00  A2F6NONFUDB6UK      Malvin              21/22           5.0   \n",
      "1493632   19.95  A2F6NONFUDB6UK      Malvin              13/13           5.0   \n",
      "1499769   19.00  A2F6NONFUDB6UK      Malvin                1/2           5.0   \n",
      "1509631   17.46  A2F6NONFUDB6UK      Malvin                6/7           5.0   \n",
      "1670755     NaN  A2F6NONFUDB6UK      Malvin              13/17           5.0   \n",
      "1688128   12.95  A2F6NONFUDB6UK      Malvin              33/41           4.0   \n",
      "1799931   26.13  A2F6NONFUDB6UK      Malvin                6/6           5.0   \n",
      "1887282   74.95  A2F6NONFUDB6UK      Malvin              14/15           5.0   \n",
      "2035888   36.95  A2F6NONFUDB6UK      Malvin              10/10           5.0   \n",
      "2102818     NaN  A2F6NONFUDB6UK      Malvin            150/155           5.0   \n",
      "2145488   20.00  A2F6NONFUDB6UK      Malvin              14/16           3.0   \n",
      "2276759  101.00  A2F6NONFUDB6UK      Malvin                6/6           4.0   \n",
      "2277609   31.41  A2F6NONFUDB6UK      Malvin                6/6           4.0   \n",
      "2290755     NaN  A2F6NONFUDB6UK      Malvin              19/20           4.0   \n",
      "2290827     NaN  A2F6NONFUDB6UK      Malvin              19/20           4.0   \n",
      "2436778   12.89  A2F6NONFUDB6UK      Malvin              12/15           4.0   \n",
      "2506494     NaN  A2F6NONFUDB6UK      Malvin              51/55           5.0   \n",
      "2587531     NaN  A2F6NONFUDB6UK      Malvin              57/59           5.0   \n",
      "2637908     NaN  A2F6NONFUDB6UK      Malvin              12/14           5.0   \n",
      "2824648   14.20  A2F6NONFUDB6UK      Malvin              15/18           4.0   \n",
      "2954196   28.64  A2F6NONFUDB6UK      Malvin                3/3           3.0   \n",
      "\n",
      "         review/time                                     review/summary  \\\n",
      "5         1127174400         One of America's greatest creative talents   \n",
      "81192     1045958400                                     Clean the sty!   \n",
      "97694     1107993600                                     Groundbreaking   \n",
      "127002    1019174400                            This book is on message   \n",
      "154774    1023062400      Fairly good treatment of an important subject   \n",
      "301366    1153785600         In defense of justice, reason and fairness   \n",
      "390743    1164412800            The illusory freedom of consumer choice   \n",
      "441277    1117411200   Securing profits by preserving social inequality   \n",
      "553531    1054944000            Entertaining but slightly disappointing   \n",
      "596160    1167868800     A formidable challenge to neoliberal feminists   \n",
      "697505    1167436800   An original theory for understanding media power   \n",
      "742508    1106524800        From formal subsumption to real subsumption   \n",
      "839224    1130630400         The media's manipulation of public opinion   \n",
      "922138    1142726400  Deconstructing the sales pitch mentality of co...   \n",
      "997706    1135036800   Towards a revolutionary and united South America   \n",
      "1160639   1054944000            Entertaining but slightly disappointing   \n",
      "1175929   1149811200              A riposte to free market cheerleaders   \n",
      "1220691   1019779200                             Prophetic and relevant   \n",
      "1265995   1077926400    Remarkably informative, incisive and persuasive   \n",
      "1283124   1018656000      A welcome modern-day heretic speaks the truth   \n",
      "1493632   1127952000   A sharp indictment of the neoconservative agenda   \n",
      "1499769   1102723200                                          Inspiring   \n",
      "1509631   1080518400  An original and compelling critique of capitalism   \n",
      "1670755   1066435200                     Lessons about U.S. imperialism   \n",
      "1688128   1042329600                  Don't misunderestimate this book!   \n",
      "1799931   1119571200              The exploitation of gender for profit   \n",
      "1887282   1172620800                              Our moment in history   \n",
      "2035888   1062460800           An unique vision of a sustainable future   \n",
      "2102818   1040774400         The food industry's assault on your health   \n",
      "2145488   1023926400         A vision for a populist form of capitalism   \n",
      "2276759   1116806400              The struggle for nature and community   \n",
      "2277609   1116806400              The struggle for nature and community   \n",
      "2290755   1161993600  Sophisticated analysis of geographical develop...   \n",
      "2290827   1161993600  Sophisticated analysis of geographical develop...   \n",
      "2436778   1075593600                     A remarkable piece of research   \n",
      "2506494   1045958400           \"Corporate pedophilia\" and your children   \n",
      "2587531   1012953600           How capitalism and democracy should work   \n",
      "2637908   1056412800                               Succeeds brilliantly   \n",
      "2824648   1020988800                     Kesler vs. Delong vs. Bourdieu   \n",
      "2954196   1146009600                            Rare moments of insight   \n",
      "\n",
      "                                               review/text  \n",
      "5        \"Dr. Seuss: American Icon\" by Philip Nel is a ...  \n",
      "81192    Arianna Huffington's &quot;Pigs at the Trough&...  \n",
      "97694    \"The Silicon Valley of Dreams\" by David Pellow...  \n",
      "127002   Author Mark Crispin Miller gets (as Bush Sr. m...  \n",
      "154774   As a veteran of the technology industry, Simso...  \n",
      "301366   \"Kingdom Coming\" by Michelle Goldberg is a cau...  \n",
      "390743   \"Manufacturing Discontent\" by Michael Perelman...  \n",
      "441277   \"The Profits of Extermination\" by Francisco Ra...  \n",
      "553531   \"Reefer Madness\" is an uneven examination of t...  \n",
      "596160   \"Beauty and Misogyny\" by Sheila Jeffreys is a ...  \n",
      "697505   \"Projections of Power\" by Robert M. Entman is ...  \n",
      "742508   \"The Micro-Politics of Capital\" by Jason Read ...  \n",
      "839224   \"Filtering the News\" by Jeffery Klaehn (editor...  \n",
      "922138   \"Telling the Truth: Socialist Register 2006\" b...  \n",
      "997706   \"Hugo Chavez and the Bolivarian Revolution\" by...  \n",
      "1160639  \"Reefer Madness\" is an uneven examination of t...  \n",
      "1175929  \"Illicit\" by Moises Naim is a good primer on t...  \n",
      "1220691  I read this book prior to the September 11 att...  \n",
      "1265995  &quot;Information War&quot; by Nancy Snow is a...  \n",
      "1283124  In an earlier age, religious authorities denie...  \n",
      "1493632  \"The War at Home\" by Frances Fox Piven is a sh...  \n",
      "1499769  \"Killing Me Softly\" by Eddie Girdner and Jack ...  \n",
      "1509631  Ursula Huws' \"The Making of a Cybertariat\" is ...  \n",
      "1670755  &quot;The Memoirs of Manuel Noriega: America's...  \n",
      "1688128  Paul Begala's \"It's Still the Economy, Stupid\"...  \n",
      "1799931  \"Genders in Production\" by Leslie Salzinger is...  \n",
      "1887282  \"Fear of Small Numbers\" by Arjun Appadurai off...  \n",
      "2035888  &quot;Eco-Socialism or Eco-Capitalism&quot; by...  \n",
      "2102818  Nutrition expert Marion Nestle's \"Food Politic...  \n",
      "2145488  In &quot;Democracy at Risk&quot;, author Jeff ...  \n",
      "2276759  \"Ecofeminism & GLobalization\" by Heather Eaton...  \n",
      "2277609  \"Ecofeminism & GLobalization\" by Heather Eaton...  \n",
      "2290755  \"Spaces of Global Capitalism\" by David Harvey ...  \n",
      "2290827  \"Spaces of Global Capitalism\" by David Harvey ...  \n",
      "2436778  Lizabeth Cohen's \"A Consumers' Republic\" does ...  \n",
      "2506494  Alissa Quart's \"Branded\" explores how America'...  \n",
      "2587531  The Divine Right of Capital expands on a theme...  \n",
      "2637908  Steven M. Wise's \"Drawing the Line\" presents a...  \n",
      "2824648  I wholeheartedly endorse Kesler's response to ...  \n",
      "2954196  \"Wonder Women\" by Lillian S. Robinson is a wel...  \n"
     ]
    }
   ],
   "source": [
    "print(ratings.loc[ratings['profileName'] == 'Malvin'])"
   ]
  },
  {
   "cell_type": "code",
   "execution_count": 129,
   "id": "cffc894b",
   "metadata": {},
   "outputs": [],
   "source": [
    "books = pd.read_csv('data/books_data.csv')"
   ]
  },
  {
   "cell_type": "code",
   "execution_count": 159,
   "id": "2aed3fdf",
   "metadata": {},
   "outputs": [],
   "source": [
    "def getLikedBooks(profileName):\n",
    "    liked_books = ratings.loc[ratings['profileName'] == profileName]\n",
    "    book_list = []\n",
    "    for index, row in liked_books.iterrows():\n",
    "        if row['review/score'] >= 5.0:\n",
    "            book_list.append(row['Title'])\n",
    "    return book_list\n",
    "\n",
    "def getBookDescription(title):\n",
    "    return books.loc[books['Title'] == title]"
   ]
  },
  {
   "cell_type": "code",
   "execution_count": 151,
   "id": "7ab5a14a",
   "metadata": {},
   "outputs": [
    {
     "name": "stdout",
     "output_type": "stream",
     "text": [
      "['Dr. Seuss: American Icon', 'Walking Tall in Babylon: Raising Children to Be Godly and Wise in a Perilous World', 'The Magic Ring']\n"
     ]
    }
   ],
   "source": [
    "print(getLikedBooks('John Granger'))"
   ]
  },
  {
   "cell_type": "code",
   "execution_count": 160,
   "id": "52c3abc5",
   "metadata": {},
   "outputs": [],
   "source": [
    "title = getLikedBooks('John Granger')[0]\n",
    "description = getBookDescription(title).iloc[0]['description']\n",
    "new_title_summary = title + \" \" + description"
   ]
  },
  {
   "cell_type": "code",
   "execution_count": 179,
   "id": "1d0796ce",
   "metadata": {},
   "outputs": [
    {
     "name": "stdout",
     "output_type": "stream",
     "text": [
      "dr. seuss : american icon philip nel takes fascinating look key aspects seuss 's career - poetry , politics , art , marketing , place popular imagination . '' `` nel argues convincingly dr. seuss one influential poets america . nonsense verse , like lewis carroll edward lear , changed language , giving us new words like `` nerd . '' seuss 's famously loopy artistic style - nel terms `` energetic cartoon surrealism '' - equally important , inspiring artists like filmmaker tim burton illustrator lane smith . -- back cover\n"
     ]
    }
   ],
   "source": [
    "new_tokenized = nltk.word_tokenize(clean_text(new_title_summary.lower()))\n",
    "new_tokenized = [word for word in new_tokenized if word not in (stop)]\n",
    "new_tokenized = ' '.join(new_tokenized)\n",
    "print(new_tokenized)"
   ]
  },
  {
   "cell_type": "code",
   "execution_count": 183,
   "id": "d436c657",
   "metadata": {},
   "outputs": [
    {
     "name": "stdout",
     "output_type": "stream",
     "text": [
      "[[0 0 0 1 0 0 0 1 0 0 0 0 0 0 0 0 0 1 0 0 0 0 0 0 0 0 0 0 0 0 0 0 0 0 0 0\n",
      "  0 0 0 0 0 0 0 0 0 0 0 0 0 0 0 0 0 0 0 0 0 0 0 0 0 0 0 0 0 0 0 0 0 0 0 0\n",
      "  0 0 0 0 0 0 0 0 0 0 0 0 0 0 0 0 0 0 0 0 0 0 0 0 0 0 0 0 0 0 0 0 0 0 0 0\n",
      "  0 0 0 0 0 0 0 0 0 0 0 0 0 0 0 0 0 0 0 0 0 0 0 0 0 0]]\n",
      "['Novel', 'Young adult literature', 'Non-fiction']\n"
     ]
    }
   ],
   "source": [
    "new_tokenized_tfidf = vectorizer.transform([new_tokenized])\n",
    "new_pred = clf_1.predict(new_tokenized_tfidf)\n",
    "print(new_pred)\n",
    "print(getGenreNames(new_pred[0]))"
   ]
  },
  {
   "cell_type": "code",
   "execution_count": null,
   "id": "954f1fee",
   "metadata": {},
   "outputs": [],
   "source": []
  }
 ],
 "metadata": {
  "kernelspec": {
   "display_name": "Python 3 (ipykernel)",
   "language": "python",
   "name": "python3"
  },
  "language_info": {
   "codemirror_mode": {
    "name": "ipython",
    "version": 3
   },
   "file_extension": ".py",
   "mimetype": "text/x-python",
   "name": "python",
   "nbconvert_exporter": "python",
   "pygments_lexer": "ipython3",
   "version": "3.11.4"
  }
 },
 "nbformat": 4,
 "nbformat_minor": 5
}
