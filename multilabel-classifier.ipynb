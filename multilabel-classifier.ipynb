{
 "cells": [
  {
   "cell_type": "markdown",
   "id": "d2561658",
   "metadata": {},
   "source": [
    "# Genre Classification"
   ]
  },
  {
   "cell_type": "markdown",
   "id": "7d44b0df",
   "metadata": {},
   "source": [
    "## Load in data"
   ]
  },
  {
   "cell_type": "code",
   "execution_count": 1,
   "id": "07c83a12",
   "metadata": {},
   "outputs": [
    {
     "name": "stdout",
     "output_type": "stream",
     "text": [
      "                                       title  \\\n",
      "0                                Animal Farm   \n",
      "1                         A Clockwork Orange   \n",
      "2                                 The Plague   \n",
      "3  An Enquiry Concerning Human Understanding   \n",
      "4                       A Fire Upon the Deep   \n",
      "\n",
      "                                               genre  \\\n",
      "0  {\"/m/016lj8\": \"Roman \\u00e0 clef\", \"/m/06nbt\":...   \n",
      "1  {\"/m/06n90\": \"Science Fiction\", \"/m/0l67h\": \"N...   \n",
      "2  {\"/m/02m4t\": \"Existentialism\", \"/m/02xlf\": \"Fi...   \n",
      "3                                                NaN   \n",
      "4  {\"/m/03lrw\": \"Hard science fiction\", \"/m/06n90...   \n",
      "\n",
      "                                             summary  \n",
      "0   Old Major, the old boar on the Manor Farm, ca...  \n",
      "1   Alex, a teenager living in near-future Englan...  \n",
      "2   The text of The Plague is divided into five p...  \n",
      "3   The argument of the Enquiry proceeds by a ser...  \n",
      "4   The novel posits that space around the Milky ...  \n"
     ]
    }
   ],
   "source": [
    "import pandas as pd\n",
    "from sklearn.feature_extraction.text import TfidfVectorizer\n",
    "\n",
    "# Read in data from file\n",
    "df = pd.read_csv('data/booksummaries.txt', header=None, sep='\\t')\n",
    "df.columns = ['wikipedia_article_id', 'freebase_id', 'title', 'author', 'pub_date', 'genre', 'summary']\n",
    "# Remove extraneous features - wikipedia_article_id, freebase_id, author, pub_date\n",
    "df = df.drop(labels=['wikipedia_article_id', 'freebase_id', 'author', 'pub_date'], axis=1)\n",
    "\n",
    "print(df.head())"
   ]
  },
  {
   "cell_type": "markdown",
   "id": "b69cc868",
   "metadata": {},
   "source": [
    "## Data Pre-Processing\n",
    "- Add spaces around special characters\n",
    "- Remove useless spaces and multiple newlines\n",
    "- Remove stopwords\n",
    "- Remove all books without genres, titles, or summaries"
   ]
  },
  {
   "cell_type": "code",
   "execution_count": 2,
   "id": "b7d25f74",
   "metadata": {},
   "outputs": [],
   "source": [
    "import re\n",
    "\n",
    "# example code taken from fast-bert\n",
    "def spec_add_spaces(t: str) -> str:\n",
    "    \"Add spaces around / and # in `t`. \\n\"\n",
    "    return re.sub(r\"([/#\\n])\", r\" \\1 \", t)\n",
    "\n",
    "def rm_useless_spaces(t: str) -> str:\n",
    "    \"Remove multiple spaces in `t`.\"\n",
    "    return re.sub(\" {2,}\", \" \", t)\n",
    "\n",
    "def replace_multi_newline(t: str) -> str:\n",
    "    return re.sub(r\"(\\n(\\s)*){2,}\", \"\\n\", t)\n",
    "\n",
    "def clean_text(input_text):\n",
    "    text = replace_multi_newline(input_text)\n",
    "    text = spec_add_spaces(text)\n",
    "    text = rm_useless_spaces(text)\n",
    "    text = text.strip()\n",
    "    return text"
   ]
  },
  {
   "cell_type": "code",
   "execution_count": 3,
   "id": "55c52066",
   "metadata": {},
   "outputs": [
    {
     "name": "stderr",
     "output_type": "stream",
     "text": [
      "[nltk_data] Downloading package punkt to\n",
      "[nltk_data]     /Users/cindyzastudil/nltk_data...\n",
      "[nltk_data]   Package punkt is already up-to-date!\n",
      "[nltk_data] Downloading package averaged_perceptron_tagger to\n",
      "[nltk_data]     /Users/cindyzastudil/nltk_data...\n",
      "[nltk_data]   Package averaged_perceptron_tagger is already up-to-\n",
      "[nltk_data]       date!\n",
      "[nltk_data] Downloading package stopwords to\n",
      "[nltk_data]     /Users/cindyzastudil/nltk_data...\n",
      "[nltk_data]   Package stopwords is already up-to-date!\n"
     ]
    },
    {
     "name": "stdout",
     "output_type": "stream",
     "text": [
      "Size of dataset before preprocessing: 16559\n",
      "Size of dataset after removing missing genres: 12841\n",
      "Size of dataset after removing missing titles: 12841\n",
      "Size of dataset after removing missing summaries: 12841\n",
      "Size of dataset after preprocessing: 12841\n"
     ]
    }
   ],
   "source": [
    "import nltk\n",
    "nltk.download('punkt')\n",
    "nltk.download('averaged_perceptron_tagger')\n",
    "nltk.download('stopwords')\n",
    "from nltk.tokenize import word_tokenize\n",
    "from nltk.corpus import stopwords\n",
    "\n",
    "print('Size of dataset before preprocessing:', len(df))\n",
    "\n",
    "# Remove any books which don't have genres\n",
    "df.dropna(subset=['genre'], inplace=True)\n",
    "\n",
    "print('Size of dataset after removing missing genres:', len(df))\n",
    "\n",
    "# Remove any books which don't have titles\n",
    "df.dropna(subset=['title'], inplace=True)\n",
    "\n",
    "print('Size of dataset after removing missing titles:', len(df))\n",
    "\n",
    "# Remove any books which don't have summaries\n",
    "df.dropna(subset=['summary'], inplace=True)\n",
    "\n",
    "print('Size of dataset after removing missing summaries:', len(df))\n",
    "print('Size of dataset after preprocessing:', len(df))\n",
    "\n",
    "# Tokenize titles & convert to lower case - add to tokenized_title column\n",
    "df['token_title'] = df['title'].apply(lambda x: nltk.word_tokenize(clean_text(x.lower())))\n",
    "\n",
    "# Tokenize summaries & convert to lower case - add to tokenized_summary column\n",
    "df['token_summary'] = df['summary'].apply(lambda x: nltk.word_tokenize(clean_text(x.lower())))\n",
    "\n",
    "# Remove all stop words from all summaries & titles\n",
    "stop = stopwords.words('english')\n",
    "df['token_summary'] = df['token_summary'].apply(lambda x: [word for word in x if word not in (stop)])\n",
    "df['token_title'] = df['token_title'].apply(lambda x: [word for word in x if word not in (stop)])\n",
    "df['token_summary'] = [' '.join(map(str, l)) for l in df['token_summary']]\n",
    "df['token_title'] = [' '.join(map(str, l)) for l in df['token_title']]\n",
    "df[\"title_summary\"] = df[\"token_title\"] + \" \" + df[\"token_summary\"]"
   ]
  },
  {
   "cell_type": "code",
   "execution_count": 4,
   "id": "d43f82cb",
   "metadata": {},
   "outputs": [
    {
     "name": "stdout",
     "output_type": "stream",
     "text": [
      "                            title  \\\n",
      "0                     Animal Farm   \n",
      "1              A Clockwork Orange   \n",
      "2                      The Plague   \n",
      "4            A Fire Upon the Deep   \n",
      "5  All Quiet on the Western Front   \n",
      "\n",
      "                                               genre  \\\n",
      "0  {\"/m/016lj8\": \"Roman \\u00e0 clef\", \"/m/06nbt\":...   \n",
      "1  {\"/m/06n90\": \"Science Fiction\", \"/m/0l67h\": \"N...   \n",
      "2  {\"/m/02m4t\": \"Existentialism\", \"/m/02xlf\": \"Fi...   \n",
      "4  {\"/m/03lrw\": \"Hard science fiction\", \"/m/06n90...   \n",
      "5  {\"/m/098tmk\": \"War novel\", \"/m/016lj8\": \"Roman...   \n",
      "\n",
      "                                             summary          token_title  \\\n",
      "0   Old Major, the old boar on the Manor Farm, ca...          animal farm   \n",
      "1   Alex, a teenager living in near-future Englan...     clockwork orange   \n",
      "2   The text of The Plague is divided into five p...               plague   \n",
      "4   The novel posits that space around the Milky ...       fire upon deep   \n",
      "5   The book tells the story of Paul Bäumer, a Ge...  quiet western front   \n",
      "\n",
      "                                       token_summary  \\\n",
      "0  old major , old boar manor farm , calls animal...   \n",
      "1  alex , teenager living near-future england , l...   \n",
      "2  text plague divided five parts . town oran , t...   \n",
      "4  novel posits space around milky way divided co...   \n",
      "5  book tells story paul bäumer , german soldier ...   \n",
      "\n",
      "                                       title_summary  \\\n",
      "0  animal farm old major , old boar manor farm , ...   \n",
      "1  clockwork orange alex , teenager living near-f...   \n",
      "2  plague text plague divided five parts . town o...   \n",
      "4  fire upon deep novel posits space around milky...   \n",
      "5  quiet western front book tells story paul bäum...   \n",
      "\n",
      "                                     formatted_genre  \n",
      "0  [Roman à clef, Satire, Children's literature, ...  \n",
      "1  [Science Fiction, Novella, Speculative fiction...  \n",
      "2  [Existentialism, Fiction, Absurdist fiction, N...  \n",
      "4  [Hard science fiction, Science Fiction, Specul...  \n",
      "5                          [War novel, Roman à clef]  \n"
     ]
    }
   ],
   "source": [
    "# Format the genre field\n",
    "formatted_genres = []\n",
    "genre_dict = dict()\n",
    "for g in df['genre']:\n",
    "    subg = []\n",
    "    genre_dict = eval(g)\n",
    "    for k in genre_dict.keys():\n",
    "        subg.append(genre_dict[k])\n",
    "    formatted_genres.append(subg)\n",
    "df['formatted_genre'] = formatted_genres\n",
    "print(df.head())"
   ]
  },
  {
   "cell_type": "markdown",
   "id": "6dc0d5d0",
   "metadata": {},
   "source": [
    "## Exploratory Data Analysis"
   ]
  },
  {
   "cell_type": "markdown",
   "id": "24e1909f",
   "metadata": {},
   "source": [
    "### Number of Unique Genres"
   ]
  },
  {
   "cell_type": "code",
   "execution_count": 5,
   "id": "288047bb",
   "metadata": {},
   "outputs": [
    {
     "name": "stdout",
     "output_type": "stream",
     "text": [
      "# of unique genres: 227\n"
     ]
    }
   ],
   "source": [
    "genres = set()\n",
    "for x in df['formatted_genre']:\n",
    "    genres.update(x)\n",
    "print('# of unique genres:', len(genres))"
   ]
  },
  {
   "cell_type": "markdown",
   "id": "bb96884c",
   "metadata": {},
   "source": [
    "### Genre Count Distribution"
   ]
  },
  {
   "cell_type": "code",
   "execution_count": 6,
   "id": "39d0950e",
   "metadata": {},
   "outputs": [
    {
     "name": "stdout",
     "output_type": "stream",
     "text": [
      "Genre distribution: {5: 653, 6: 258, 4: 1428, 2: 3532, 1: 4555, 3: 2275, 9: 11, 7: 101, 8: 26, 11: 1, 10: 1}\n"
     ]
    },
    {
     "data": {
      "image/png": "[encoded data removed]",
      "text/plain": [
       "<Figure size 640x480 with 1 Axes>"
      ]
     },
     "metadata": {},
     "output_type": "display_data"
    }
   ],
   "source": [
    "import matplotlib.pyplot as plt \n",
    "\n",
    "genre_dist = dict()\n",
    "for x in df['formatted_genre']:\n",
    "    if len(x) in genre_dist.keys():\n",
    "        genre_dist[len(x)] += 1\n",
    "    else:\n",
    "        genre_dist[len(x)] = 1\n",
    "\n",
    "print(\"Genre distribution:\", genre_dist)\n",
    "\n",
    "plt.bar(range(len(genre_dist)), sorted(genre_dist.values(), reverse=True), align='center')\n",
    "plt.xticks(range(len(genre_dist)), sorted(list(genre_dist.keys())))\n",
    "plt.title(\"Genre Distribution of Books\")\n",
    "plt.xlabel(\"Number of Genres\")\n",
    "plt.ylabel(\"Number of Books\")\n",
    "plt.show()"
   ]
  },
  {
   "cell_type": "markdown",
   "id": "12b00336",
   "metadata": {},
   "source": [
    "### Genre Frequencies"
   ]
  },
  {
   "cell_type": "code",
   "execution_count": 7,
   "id": "090a1462",
   "metadata": {},
   "outputs": [
    {
     "name": "stdout",
     "output_type": "stream",
     "text": [
      "[('Fiction', 4747), ('Speculative fiction', 4314), ('Science Fiction', 2870), ('Novel', 2463), ('Fantasy', 2413), (\"Children's literature\", 2122), ('Mystery', 1396), ('Young adult literature', 825), ('Suspense', 765), ('Crime Fiction', 753), ('Historical novel', 654), ('Thriller', 568), ('Horror', 511), ('Romance novel', 435), ('Historical fiction', 388), ('Detective fiction', 341), ('Adventure novel', 330), ('Non-fiction', 230), ('Alternate history', 226), ('Spy fiction', 190), ('Comedy', 145), ('Dystopia', 127), ('Autobiography', 124), ('Satire', 123), ('Gothic fiction', 112), ('Comic novel', 104), ('Biography', 102), ('Novella', 87), ('War novel', 87), ('Short story', 78), ('Autobiographical novel', 77), ('History', 73), ('Utopian and dystopian fiction', 67), ('Memoir', 67), ('High fantasy', 66), ('Humour', 62), ('Techno-thriller', 59), ('Apocalyptic and post-apocalyptic fiction', 56), ('Picture book', 49), ('Role-playing game', 48), ('Philosophy', 47), ('Steampunk', 47), ('Paranormal romance', 46), ('Bildungsroman', 42), ('Western', 41), ('Gamebook', 39), ('Reference', 38), ('Black comedy', 38), ('Urban fantasy', 37), ('Literary fiction', 36), ('Military science fiction', 33), ('Sociology', 31), ('Sword and sorcery', 31), ('Epistolary novel', 30), ('Whodunit', 30), ('Roman à clef', 29), ('Absurdist fiction', 29), ('Drama', 29), ('Poetry', 28), ('Psychological novel', 26), ('Hard science fiction', 25), ('Magic realism', 25), ('Hardboiled', 24), ('Western fiction', 23), ('Adventure', 23), ('Dark fantasy', 23), ('Science', 22), ('True crime', 22), ('Travel', 21), ('Psychology', 21), ('Time travel', 20), ('Picaresque novel', 18), ('Wuxia', 18), ('Historical fantasy', 18), ('Graphic novel', 17), ('Parallel novel', 17), ('Cyberpunk', 16), ('Business', 16), ('Religion', 16), ('Erotica', 16), ('Lost World', 16), ('Parody', 15), ('Chivalric romance', 15), ('Vampire fiction', 15), ('Scientific romance', 14), ('Economics', 13), ('Politics', 13), ('Künstlerroman', 12), ('Mathematics', 12), ('Biographical novel', 12), ('Space opera', 12), ('Cozy', 11), ('Travel literature', 11), ('Chick lit', 11), ('Inspirational', 10), ('Music', 10), ('Comic book', 10), ('Nature', 10), ('Science fantasy', 10), ('Regency romance', 10), ('Play', 9), ('Fairy tale', 9), ('Tragicomedy', 9), ('Existentialism', 8), ('Popular science', 8), ('Literary realism', 8), ('Self-help', 7), ('Comic science fiction', 7), ('Feminist science fiction', 7), ('Historical whodunnit', 7), ('Personal journal', 7), ('Postmodernism', 7), ('Gay novel', 7), ('Sports', 7), ('Transhumanism', 6), ('Post-holocaust', 6), ('Industrial novel', 6), ('Comics', 6), ('Fantasy of manners', 6), ('Historical romance', 6), ('Anthology', 6), ('Contemporary fantasy', 6), ('Spirituality', 5), ('Zombies in popular culture', 5), ('Planetary romance', 5), ('Treatise', 5), ('Comic fantasy', 5), ('Locked room mystery', 5), ('Soft science fiction', 5), ('Campus novel', 5), ('Social science fiction', 5), ('Essay', 5), ('Urban fiction', 5), ('Mashup', 5), ('Religious text', 4), ('Invasion literature', 4), ('Farce', 4), ('Sea story', 4), ('Anthropology', 4), ('Supernatural', 4), ('Conspiracy fiction', 4), ('Ghost story', 4), ('Social novel', 4), ('Zombie', 4), ('Coming of age', 4), ('Edisonade', 4), ('Subterranean fiction', 4), ('Heroic fantasy', 4), ('Encyclopedia', 4), ('Prose', 4), ('Catastrophic literature', 3), ('Non-fiction novel', 3), ('Ergodic literature', 3), ('Social sciences', 3), ('Social commentary', 3), ('Political philosophy', 3), ('Serial', 3), ('Dying Earth subgenre', 3), ('Polemic', 3), ('Photography', 3), ('Creative nonfiction', 3), ('Juvenile fantasy', 2), ('Albino bias', 2), ('Postcyberpunk', 2), ('Comedy of manners', 2), ('Morality play', 2), ('Prose poetry', 2), ('Literary criticism', 2), ('Naval adventure', 2), ('Transgender and transsexual fiction', 2), ('Sword and planet', 2), ('LGBT literature', 2), ('Foreign legion', 2), ('Robinsonade', 2), ('Romantic comedy', 2), ('Metaphysics', 2), ('Education', 2), ('Cookbook', 2), ('Military history', 2), ('Modernism', 2), ('Light novel', 2), ('Fairytale fantasy', 2), ('Biopunk', 2), ('Computer Science', 1), ('Social criticism', 1), ('Anti-war', 1), ('Human extinction', 1), ('First-person narrative', 1), ('New Weird', 1), ('Cabal', 1), ('Conspiracy', 1), ('School story', 1), ('English public-school stories', 1), (\"Boys' school stories\", 1), ('Experimental literature', 1), ('Gay Themed', 1), ('Utopian fiction', 1), ('Future history', 1), ('Anti-nuclear', 1), ('Literary theory', 1), ('Elizabethan romance', 1), ('Pornography', 1), ('Georgian romance', 1), ('American Gothic Fiction', 1), ('Field guide', 1), ('Fable', 1), ('Bangsian fantasy', 1), ('Space western', 1), ('Fantastique', 1), ('Youth', 1), ('Medieval romance', 1), ('Bit Lit', 1), ('Collage', 1), ('Superhero fiction', 1), ('Marketing', 1), ('Colonial United States romance', 1), ('Low fantasy', 1), ('Police procedural', 1), ('Indian chick lit', 1), ('Autobiographical comics', 1), ('Fictional crossover', 1), ('Popular culture', 1), ('Neuroscience', 1), ('New York Times Best Seller list', 1), ('Epic Science Fiction and Fantasy', 1), ('Alien invasion', 1), ('Pastiche', 1)]\n"
     ]
    }
   ],
   "source": [
    "top_genre = dict()\n",
    "for x in df['formatted_genre']:\n",
    "    for g in x:\n",
    "        if g in top_genre.keys():\n",
    "            top_genre[g] += 1\n",
    "        else:\n",
    "            top_genre[g] = 1\n",
    "sorted_genre = sorted(top_genre.items(), key=lambda item: item[1], reverse=True)\n",
    "genre_freq = dict(sorted_genre)\n",
    "print(sorted_genre)"
   ]
  },
  {
   "cell_type": "markdown",
   "id": "92c4aca6",
   "metadata": {},
   "source": [
    "### 20 Most Frequent Genres"
   ]
  },
  {
   "cell_type": "code",
   "execution_count": 8,
   "id": "a84ec4a4",
   "metadata": {},
   "outputs": [
    {
     "data": {
      "image/png": "[encoded data removed]",
      "text/plain": [
       "<Figure size 640x480 with 1 Axes>"
      ]
     },
     "metadata": {},
     "output_type": "display_data"
    }
   ],
   "source": [
    "top_20_genres = dict(sorted_genre[:20])\n",
    "plt.bar(range(len(top_20_genres)), sorted(top_20_genres.values(), reverse=True), align='center')\n",
    "plt.xticks(range(len(top_20_genres)), sorted(list(top_20_genres.keys())))\n",
    "plt.title(\"Distribution of Genres\")\n",
    "plt.xlabel(\"Genre\")\n",
    "plt.xticks(rotation=90)\n",
    "plt.ylabel(\"Number of Books\")\n",
    "plt.show()"
   ]
  },
  {
   "cell_type": "markdown",
   "id": "14f7aae5",
   "metadata": {},
   "source": [
    "### 20 Least Frequent Genres"
   ]
  },
  {
   "cell_type": "code",
   "execution_count": 9,
   "id": "913af450",
   "metadata": {},
   "outputs": [
    {
     "data": {
      "image/png": "[encoded data removed]",
      "text/plain": [
       "<Figure size 640x480 with 1 Axes>"
      ]
     },
     "metadata": {},
     "output_type": "display_data"
    }
   ],
   "source": [
    "bottom_20_genres = dict(sorted_genre[-20:])\n",
    "plt.bar(range(len(bottom_20_genres)), sorted(bottom_20_genres.values(), reverse=True), align='center')\n",
    "plt.xticks(range(len(bottom_20_genres)), sorted(list(bottom_20_genres.keys())))\n",
    "plt.title(\"Distribution of Genres\")\n",
    "plt.xlabel(\"Genre\")\n",
    "plt.xticks(rotation=90)\n",
    "plt.ylabel(\"Number of Books\")\n",
    "plt.show()"
   ]
  },
  {
   "cell_type": "markdown",
   "id": "a15f0aab",
   "metadata": {},
   "source": [
    "## One-Hot Encoding of Genres"
   ]
  },
  {
   "cell_type": "code",
   "execution_count": 10,
   "id": "fa035737",
   "metadata": {},
   "outputs": [
    {
     "name": "stdout",
     "output_type": "stream",
     "text": [
      "['Speculative fiction', 'Science Fiction', 'Fantasy', 'Mystery', 'Young adult literature', 'Suspense', 'Crime Fiction', 'Historical novel', 'Thriller', 'Horror', 'Romance novel', 'Historical fiction', 'Detective fiction', 'Adventure novel', 'Alternate history', 'Spy fiction', 'Comedy', 'Dystopia', 'Autobiography', 'Satire', 'Gothic fiction', 'Comic novel', 'Biography', 'War novel', 'Short story', 'Autobiographical novel', 'History', 'Utopian and dystopian fiction', 'Memoir', 'High fantasy', 'Humour', 'Techno-thriller', 'Apocalyptic and post-apocalyptic fiction', 'Picture book', 'Role-playing game', 'Philosophy', 'Steampunk', 'Paranormal romance', 'Bildungsroman', 'Western', 'Gamebook', 'Reference', 'Black comedy', 'Urban fantasy', 'Literary fiction', 'Military science fiction', 'Sociology', 'Sword and sorcery', 'Epistolary novel', 'Whodunit', 'Roman à clef', 'Absurdist fiction', 'Drama', 'Poetry', 'Psychological novel', 'Hard science fiction', 'Magic realism', 'Hardboiled', 'Western fiction', 'Adventure', 'Dark fantasy', 'Science', 'True crime', 'Travel', 'Psychology', 'Time travel', 'Picaresque novel', 'Wuxia', 'Historical fantasy', 'Graphic novel', 'Parallel novel', 'Cyberpunk', 'Business', 'Religion', 'Erotica', 'Lost World', 'Parody', 'Chivalric romance', 'Vampire fiction', 'Scientific romance', 'Economics', 'Politics', 'Künstlerroman', 'Mathematics', 'Biographical novel', 'Space opera', 'Cozy', 'Travel literature', 'Chick lit', 'Inspirational', 'Music', 'Comic book', 'Nature', 'Science fantasy', 'Regency romance', 'Play', 'Fairy tale', 'Tragicomedy', 'Existentialism', 'Popular science', 'Literary realism', 'Self-help', 'Comic science fiction', 'Feminist science fiction', 'Historical whodunnit', 'Personal journal', 'Postmodernism', 'Gay novel', 'Sports', 'Transhumanism', 'Post-holocaust', 'Industrial novel', 'Comics', 'Fantasy of manners', 'Historical romance', 'Anthology', 'Contemporary fantasy', 'Spirituality', 'Zombies in popular culture', 'Planetary romance', 'Treatise', 'Comic fantasy', 'Locked room mystery', 'Soft science fiction', 'Campus novel', 'Social science fiction', 'Essay', 'Urban fiction', 'Mashup']\n"
     ]
    }
   ],
   "source": [
    "new_columns = []\n",
    "ignore = ['Fiction', 'Novel', 'Children\\'s literature', 'Non-fiction', 'Novella']\n",
    "#ignore = []\n",
    "for g in genre_freq.keys():\n",
    "    if genre_freq[g] >= 5 and g not in ignore:\n",
    "        new_columns.append(g)\n",
    "        \n",
    "print(new_columns)"
   ]
  },
  {
   "cell_type": "code",
   "execution_count": 11,
   "id": "956bfbb3",
   "metadata": {},
   "outputs": [
    {
     "name": "stdout",
     "output_type": "stream",
     "text": [
      "                            title  \\\n",
      "0                     Animal Farm   \n",
      "1              A Clockwork Orange   \n",
      "2                      The Plague   \n",
      "4            A Fire Upon the Deep   \n",
      "5  All Quiet on the Western Front   \n",
      "\n",
      "                                               genre  \\\n",
      "0  {\"/m/016lj8\": \"Roman \\u00e0 clef\", \"/m/06nbt\":...   \n",
      "1  {\"/m/06n90\": \"Science Fiction\", \"/m/0l67h\": \"N...   \n",
      "2  {\"/m/02m4t\": \"Existentialism\", \"/m/02xlf\": \"Fi...   \n",
      "4  {\"/m/03lrw\": \"Hard science fiction\", \"/m/06n90...   \n",
      "5  {\"/m/098tmk\": \"War novel\", \"/m/016lj8\": \"Roman...   \n",
      "\n",
      "                                             summary          token_title  \\\n",
      "0   Old Major, the old boar on the Manor Farm, ca...          animal farm   \n",
      "1   Alex, a teenager living in near-future Englan...     clockwork orange   \n",
      "2   The text of The Plague is divided into five p...               plague   \n",
      "4   The novel posits that space around the Milky ...       fire upon deep   \n",
      "5   The book tells the story of Paul Bäumer, a Ge...  quiet western front   \n",
      "\n",
      "                                       token_summary  \\\n",
      "0  old major , old boar manor farm , calls animal...   \n",
      "1  alex , teenager living near-future england , l...   \n",
      "2  text plague divided five parts . town oran , t...   \n",
      "4  novel posits space around milky way divided co...   \n",
      "5  book tells story paul bäumer , german soldier ...   \n",
      "\n",
      "                                       title_summary  \\\n",
      "0  animal farm old major , old boar manor farm , ...   \n",
      "1  clockwork orange alex , teenager living near-f...   \n",
      "2  plague text plague divided five parts . town o...   \n",
      "4  fire upon deep novel posits space around milky...   \n",
      "5  quiet western front book tells story paul bäum...   \n",
      "\n",
      "                                     formatted_genre  Speculative fiction  \\\n",
      "0  [Roman à clef, Satire, Children's literature, ...                    0   \n",
      "1  [Science Fiction, Novella, Speculative fiction...                    0   \n",
      "2  [Existentialism, Fiction, Absurdist fiction, N...                    0   \n",
      "4  [Hard science fiction, Science Fiction, Specul...                    0   \n",
      "5                          [War novel, Roman à clef]                    0   \n",
      "\n",
      "   Science Fiction  Fantasy  ...  Planetary romance  Treatise  Comic fantasy  \\\n",
      "0                0        0  ...                  0         0              0   \n",
      "1                0        0  ...                  0         0              0   \n",
      "2                0        0  ...                  0         0              0   \n",
      "4                0        0  ...                  0         0              0   \n",
      "5                0        0  ...                  0         0              0   \n",
      "\n",
      "   Locked room mystery  Soft science fiction  Campus novel  \\\n",
      "0                    0                     0             0   \n",
      "1                    0                     0             0   \n",
      "2                    0                     0             0   \n",
      "4                    0                     0             0   \n",
      "5                    0                     0             0   \n",
      "\n",
      "   Social science fiction  Essay  Urban fiction  Mashup  \n",
      "0                       0      0              0       0  \n",
      "1                       0      0              0       0  \n",
      "2                       0      0              0       0  \n",
      "4                       0      0              0       0  \n",
      "5                       0      0              0       0  \n",
      "\n",
      "[5 rows x 136 columns]\n"
     ]
    }
   ],
   "source": [
    "default_value = 0\n",
    "df = pd.concat([df, pd.DataFrame({col: default_value for col in new_columns}, index=df.index)], axis=1)\n",
    "\n",
    "print(df.head())"
   ]
  },
  {
   "cell_type": "code",
   "execution_count": 12,
   "id": "8ae38075",
   "metadata": {},
   "outputs": [],
   "source": [
    "for index,row in df.iterrows():\n",
    "    for g in row['formatted_genre']:\n",
    "        if g in new_columns:\n",
    "            df.at[index, g] = 1"
   ]
  },
  {
   "cell_type": "code",
   "execution_count": 13,
   "id": "14d7d441",
   "metadata": {},
   "outputs": [
    {
     "name": "stdout",
     "output_type": "stream",
     "text": [
      "Index(['title', 'genre', 'summary', 'token_title', 'token_summary',\n",
      "       'title_summary', 'formatted_genre', 'Speculative fiction',\n",
      "       'Science Fiction', 'Fantasy',\n",
      "       ...\n",
      "       'Planetary romance', 'Treatise', 'Comic fantasy', 'Locked room mystery',\n",
      "       'Soft science fiction', 'Campus novel', 'Social science fiction',\n",
      "       'Essay', 'Urban fiction', 'Mashup'],\n",
      "      dtype='object', length=136)\n",
      "Index(['title', 'token_title', 'token_summary', 'title_summary',\n",
      "       'formatted_genre', 'Speculative fiction', 'Science Fiction', 'Fantasy',\n",
      "       'Mystery', 'Young adult literature',\n",
      "       ...\n",
      "       'Planetary romance', 'Treatise', 'Comic fantasy', 'Locked room mystery',\n",
      "       'Soft science fiction', 'Campus novel', 'Social science fiction',\n",
      "       'Essay', 'Urban fiction', 'Mashup'],\n",
      "      dtype='object', length=134)\n"
     ]
    }
   ],
   "source": [
    "print(df.columns)\n",
    "df = df.drop(labels=['genre', 'summary'], axis=1)\n",
    "print(df.columns)"
   ]
  },
  {
   "cell_type": "code",
   "execution_count": 14,
   "id": "4d48af70",
   "metadata": {},
   "outputs": [],
   "source": [
    "import csv\n",
    "\n",
    "def getGenreNames(cats):\n",
    "    genres = []\n",
    "    for i in range(len(cats)):\n",
    "        if cats[i] == 1:\n",
    "            genres.append(new_columns[i])\n",
    "    return genres\n",
    "\n",
    "def save_preds(x, y, y_hat, filename):\n",
    "    fields = ['Title', 'title_summary', 'Actual_Genres', 'Predicted_Genres']\n",
    "    rows = []\n",
    "\n",
    "    for i in range(len(y_test)):\n",
    "        row = []\n",
    "        row.append(x.iloc[i]['title'])\n",
    "        row.append(x.iloc[i]['title_summary'])\n",
    "        row.append(getGenreNames(y[i]))\n",
    "        row.append(getGenreNames(y_hat[i]))\n",
    "        rows.append(row)\n",
    "\n",
    "    with open(filename, 'w', encoding=\"utf-8\") as csvfile:\n",
    "        csvwriter = csv.writer(csvfile)\n",
    "        csvwriter.writerow(fields)\n",
    "        csvwriter.writerows(rows)"
   ]
  },
  {
   "cell_type": "markdown",
   "id": "16179dfa",
   "metadata": {},
   "source": [
    "## Multi-Output Classification with TF-IDF Encoding"
   ]
  },
  {
   "cell_type": "code",
   "execution_count": 15,
   "id": "bb006679",
   "metadata": {},
   "outputs": [
    {
     "name": "stdout",
     "output_type": "stream",
     "text": [
      "Accuracy Score:  0.16270922537952512\n",
      "Hamming Loss:  0.02\n"
     ]
    }
   ],
   "source": [
    "import numpy as np\n",
    "from sklearn.multioutput import MultiOutputClassifier\n",
    "from sklearn.linear_model import LogisticRegression\n",
    "from sklearn.metrics import accuracy_score\n",
    "from sklearn.metrics import hamming_loss\n",
    "from sklearn.model_selection import train_test_split\n",
    "\n",
    "# Logistic Regression w/ TF-IDF encoding - https://www.kdnuggets.com/2023/08/multilabel-classification-introduction-python-scikitlearn.html\n",
    "df = df.sample(frac=1)\n",
    "\n",
    "X = df[df.columns[:5]]\n",
    "y = np.asarray(df[df.columns[5:]])\n",
    "\n",
    "vectorizer = TfidfVectorizer(max_features=2500, max_df=0.9)\n",
    "vectorizer.fit(X[\"title_summary\"])\n",
    "\n",
    "X_train, X_test, y_train, y_test = train_test_split(X, y, test_size=0.2)\n",
    "X_train_tfidf = vectorizer.transform(X_train[\"title_summary\"])\n",
    "X_test_tfidf = vectorizer.transform(X_test[\"title_summary\"])\n",
    "\n",
    "# Logistic Regression\n",
    "lr = LogisticRegression(class_weight=\"balanced\",    #accounts for class imbalance\n",
    "multi_class =\"multinomial\", #accounts for multiclass\n",
    ")\n",
    "clf_1 = MultiOutputClassifier(lr)\n",
    "clf_1.fit(X_train_tfidf, y_train)\n",
    "prediction_1 = clf_1.predict(X_test_tfidf)\n",
    "print('Accuracy Score: ', accuracy_score(y_test, prediction_1))\n",
    "print('Hamming Loss: ', round(hamming_loss(y_test, prediction_1), 2))\n",
    "save_preds(X_test, y_test, prediction_1, 'genre_pre_tfidf.csv')"
   ]
  },
  {
   "cell_type": "markdown",
   "id": "530773db",
   "metadata": {},
   "source": [
    "## Multi-Output Classification with word2vec Encoding"
   ]
  },
  {
   "cell_type": "code",
   "execution_count": 16,
   "id": "f30b3b0d",
   "metadata": {},
   "outputs": [
    {
     "name": "stderr",
     "output_type": "stream",
     "text": [
      "/usr/local/lib/python3.9/site-packages/sklearn/linear_model/_logistic.py:469: ConvergenceWarning: lbfgs failed to converge (status=1):\n",
      "STOP: TOTAL NO. of ITERATIONS REACHED LIMIT.\n",
      "\n",
      "Increase the number of iterations (max_iter) or scale the data as shown in:\n",
      "    https://scikit-learn.org/stable/modules/preprocessing.html\n",
      "Please also refer to the documentation for alternative solver options:\n",
      "    https://scikit-learn.org/stable/modules/linear_model.html#logistic-regression\n",
      "  n_iter_i = _check_optimize_result(\n"
     ]
    },
    {
     "name": "stdout",
     "output_type": "stream",
     "text": [
      "Accuracy Score:  0.0\n",
      "Hamming Loss:  0.23\n"
     ]
    }
   ],
   "source": [
    "# Logistic Regression w/ word2vec encoding - https://spotintelligence.com/2023/02/15/word2vec-for-text-classification/\n",
    "from gensim.models import Word2Vec\n",
    "\n",
    "X = df[df.columns[:5]]\n",
    "y = np.asarray(df[df.columns[5:]])\n",
    "X_train, X_test, y_train, y_test = train_test_split(X, y, test_size=0.2)\n",
    "\n",
    "sentences = [sentence.split() for sentence in X_train['title_summary']]\n",
    "w2v_model = Word2Vec(sentences, vector_size=2500, window=50, min_count=5, workers=4)\n",
    "\n",
    "def vectorize(sentence):\n",
    "    words = sentence.split()\n",
    "    words_vecs = [w2v_model.wv[word] for word in sentence if word in w2v_model.wv]\n",
    "    if len(words_vecs) == 0:\n",
    "        return np.zeros(100)\n",
    "    words_vecs = np.array(words_vecs)\n",
    "    return words_vecs.mean(axis=0)\n",
    "\n",
    "X_train_w2v = np.array([vectorize(sentence) for sentence in X_train['title_summary']])\n",
    "X_test_w2v = np.array([vectorize(sentence) for sentence in X_test['title_summary']])\n",
    "\n",
    "lr = LogisticRegression(class_weight=\"balanced\",    #accounts for class imbalance\n",
    "multi_class =\"multinomial\", #accounts for multiclass\n",
    ")\n",
    "clf_2 = MultiOutputClassifier(lr)\n",
    "clf_2.fit(X_train_w2v, y_train)\n",
    "prediction_2 = clf_2.predict(X_test_w2v)\n",
    "print('Accuracy Score: ', accuracy_score(y_test, prediction_2))\n",
    "print('Hamming Loss: ', round(hamming_loss(y_test, prediction_2), 2))\n",
    "save_preds(X_test, y_test, prediction_2, 'genre_pre_w2v.csv')"
   ]
  },
  {
   "cell_type": "markdown",
   "id": "1cc09930",
   "metadata": {},
   "source": [
    "# Genre Recommendations"
   ]
  },
  {
   "cell_type": "markdown",
   "id": "d64aeab1",
   "metadata": {},
   "source": [
    "## Load in user data"
   ]
  },
  {
   "cell_type": "code",
   "execution_count": 17,
   "id": "c1b907ed",
   "metadata": {},
   "outputs": [],
   "source": [
    "# Read in data from file & remove extraneous columns\n",
    "ratings = pd.read_csv('data/Books_rating.csv')"
   ]
  },
  {
   "cell_type": "code",
   "execution_count": 18,
   "id": "82e15d3d",
   "metadata": {},
   "outputs": [
    {
     "data": {
      "text/html": [
       "<div>\n",
       "<style scoped>\n",
       "    .dataframe tbody tr th:only-of-type {\n",
       "        vertical-align: middle;\n",
       "    }\n",
       "\n",
       "    .dataframe tbody tr th {\n",
       "        vertical-align: top;\n",
       "    }\n",
       "\n",
       "    .dataframe thead th {\n",
       "        text-align: right;\n",
       "    }\n",
       "</style>\n",
       "<table border=\"1\" class=\"dataframe\">\n",
       "  <thead>\n",
       "    <tr style=\"text-align: right;\">\n",
       "      <th></th>\n",
       "      <th>Id</th>\n",
       "      <th>Title</th>\n",
       "      <th>Price</th>\n",
       "      <th>User_id</th>\n",
       "      <th>profileName</th>\n",
       "      <th>review/helpfulness</th>\n",
       "      <th>review/score</th>\n",
       "      <th>review/time</th>\n",
       "      <th>review/summary</th>\n",
       "      <th>review/text</th>\n",
       "    </tr>\n",
       "  </thead>\n",
       "  <tbody>\n",
       "    <tr>\n",
       "      <th>0</th>\n",
       "      <td>1882931173</td>\n",
       "      <td>Its Only Art If Its Well Hung!</td>\n",
       "      <td>NaN</td>\n",
       "      <td>AVCGYZL8FQQTD</td>\n",
       "      <td>Jim of Oz \"jim-of-oz\"</td>\n",
       "      <td>7/7</td>\n",
       "      <td>4.0</td>\n",
       "      <td>940636800</td>\n",
       "      <td>Nice collection of Julie Strain images</td>\n",
       "      <td>This is only for Julie Strain fans. It's a col...</td>\n",
       "    </tr>\n",
       "    <tr>\n",
       "      <th>1</th>\n",
       "      <td>0826414346</td>\n",
       "      <td>Dr. Seuss: American Icon</td>\n",
       "      <td>NaN</td>\n",
       "      <td>A30TK6U7DNS82R</td>\n",
       "      <td>Kevin Killian</td>\n",
       "      <td>10/10</td>\n",
       "      <td>5.0</td>\n",
       "      <td>1095724800</td>\n",
       "      <td>Really Enjoyed It</td>\n",
       "      <td>I don't care much for Dr. Seuss but after read...</td>\n",
       "    </tr>\n",
       "    <tr>\n",
       "      <th>2</th>\n",
       "      <td>0826414346</td>\n",
       "      <td>Dr. Seuss: American Icon</td>\n",
       "      <td>NaN</td>\n",
       "      <td>A3UH4UZ4RSVO82</td>\n",
       "      <td>John Granger</td>\n",
       "      <td>10/11</td>\n",
       "      <td>5.0</td>\n",
       "      <td>1078790400</td>\n",
       "      <td>Essential for every personal and Public Library</td>\n",
       "      <td>If people become the books they read and if \"t...</td>\n",
       "    </tr>\n",
       "    <tr>\n",
       "      <th>3</th>\n",
       "      <td>0826414346</td>\n",
       "      <td>Dr. Seuss: American Icon</td>\n",
       "      <td>NaN</td>\n",
       "      <td>A2MVUWT453QH61</td>\n",
       "      <td>Roy E. Perry \"amateur philosopher\"</td>\n",
       "      <td>7/7</td>\n",
       "      <td>4.0</td>\n",
       "      <td>1090713600</td>\n",
       "      <td>Phlip Nel gives silly Seuss a serious treatment</td>\n",
       "      <td>Theodore Seuss Geisel (1904-1991), aka &amp;quot;D...</td>\n",
       "    </tr>\n",
       "    <tr>\n",
       "      <th>4</th>\n",
       "      <td>0826414346</td>\n",
       "      <td>Dr. Seuss: American Icon</td>\n",
       "      <td>NaN</td>\n",
       "      <td>A22X4XUPKF66MR</td>\n",
       "      <td>D. H. Richards \"ninthwavestore\"</td>\n",
       "      <td>3/3</td>\n",
       "      <td>4.0</td>\n",
       "      <td>1107993600</td>\n",
       "      <td>Good academic overview</td>\n",
       "      <td>Philip Nel - Dr. Seuss: American IconThis is b...</td>\n",
       "    </tr>\n",
       "    <tr>\n",
       "      <th>5</th>\n",
       "      <td>0826414346</td>\n",
       "      <td>Dr. Seuss: American Icon</td>\n",
       "      <td>NaN</td>\n",
       "      <td>A2F6NONFUDB6UK</td>\n",
       "      <td>Malvin</td>\n",
       "      <td>2/2</td>\n",
       "      <td>4.0</td>\n",
       "      <td>1127174400</td>\n",
       "      <td>One of America's greatest creative talents</td>\n",
       "      <td>\"Dr. Seuss: American Icon\" by Philip Nel is a ...</td>\n",
       "    </tr>\n",
       "    <tr>\n",
       "      <th>6</th>\n",
       "      <td>0826414346</td>\n",
       "      <td>Dr. Seuss: American Icon</td>\n",
       "      <td>NaN</td>\n",
       "      <td>A14OJS0VWMOSWO</td>\n",
       "      <td>Midwest Book Review</td>\n",
       "      <td>3/4</td>\n",
       "      <td>5.0</td>\n",
       "      <td>1100131200</td>\n",
       "      <td>A memorably excellent survey of Dr. Seuss' man...</td>\n",
       "      <td>Theodor Seuss Giesel was best known as 'Dr. Se...</td>\n",
       "    </tr>\n",
       "    <tr>\n",
       "      <th>7</th>\n",
       "      <td>0826414346</td>\n",
       "      <td>Dr. Seuss: American Icon</td>\n",
       "      <td>NaN</td>\n",
       "      <td>A2RSSXTDZDUSH4</td>\n",
       "      <td>J. Squire</td>\n",
       "      <td>0/0</td>\n",
       "      <td>5.0</td>\n",
       "      <td>1231200000</td>\n",
       "      <td>Academia At It's Best</td>\n",
       "      <td>When I recieved this book as a gift for Christ...</td>\n",
       "    </tr>\n",
       "    <tr>\n",
       "      <th>8</th>\n",
       "      <td>0826414346</td>\n",
       "      <td>Dr. Seuss: American Icon</td>\n",
       "      <td>NaN</td>\n",
       "      <td>A25MD5I2GUIW6W</td>\n",
       "      <td>J. P. HIGBED \"big fellow\"</td>\n",
       "      <td>0/0</td>\n",
       "      <td>5.0</td>\n",
       "      <td>1209859200</td>\n",
       "      <td>And to think that I read it on the tram!</td>\n",
       "      <td>Trams (or any public transport) are not usuall...</td>\n",
       "    </tr>\n",
       "    <tr>\n",
       "      <th>9</th>\n",
       "      <td>0826414346</td>\n",
       "      <td>Dr. Seuss: American Icon</td>\n",
       "      <td>NaN</td>\n",
       "      <td>A3VA4XFS5WNJO3</td>\n",
       "      <td>Donald Burnside</td>\n",
       "      <td>3/5</td>\n",
       "      <td>4.0</td>\n",
       "      <td>1076371200</td>\n",
       "      <td>Fascinating account of a genius at work</td>\n",
       "      <td>As far as I am aware, this is the first book-l...</td>\n",
       "    </tr>\n",
       "  </tbody>\n",
       "</table>\n",
       "</div>"
      ],
      "text/plain": [
       "           Id                           Title  Price         User_id  \\\n",
       "0  1882931173  Its Only Art If Its Well Hung!    NaN   AVCGYZL8FQQTD   \n",
       "1  0826414346        Dr. Seuss: American Icon    NaN  A30TK6U7DNS82R   \n",
       "2  0826414346        Dr. Seuss: American Icon    NaN  A3UH4UZ4RSVO82   \n",
       "3  0826414346        Dr. Seuss: American Icon    NaN  A2MVUWT453QH61   \n",
       "4  0826414346        Dr. Seuss: American Icon    NaN  A22X4XUPKF66MR   \n",
       "5  0826414346        Dr. Seuss: American Icon    NaN  A2F6NONFUDB6UK   \n",
       "6  0826414346        Dr. Seuss: American Icon    NaN  A14OJS0VWMOSWO   \n",
       "7  0826414346        Dr. Seuss: American Icon    NaN  A2RSSXTDZDUSH4   \n",
       "8  0826414346        Dr. Seuss: American Icon    NaN  A25MD5I2GUIW6W   \n",
       "9  0826414346        Dr. Seuss: American Icon    NaN  A3VA4XFS5WNJO3   \n",
       "\n",
       "                          profileName review/helpfulness  review/score  \\\n",
       "0               Jim of Oz \"jim-of-oz\"                7/7           4.0   \n",
       "1                       Kevin Killian              10/10           5.0   \n",
       "2                        John Granger              10/11           5.0   \n",
       "3  Roy E. Perry \"amateur philosopher\"                7/7           4.0   \n",
       "4     D. H. Richards \"ninthwavestore\"                3/3           4.0   \n",
       "5                              Malvin                2/2           4.0   \n",
       "6                 Midwest Book Review                3/4           5.0   \n",
       "7                           J. Squire                0/0           5.0   \n",
       "8           J. P. HIGBED \"big fellow\"                0/0           5.0   \n",
       "9                     Donald Burnside                3/5           4.0   \n",
       "\n",
       "   review/time                                     review/summary  \\\n",
       "0    940636800             Nice collection of Julie Strain images   \n",
       "1   1095724800                                  Really Enjoyed It   \n",
       "2   1078790400    Essential for every personal and Public Library   \n",
       "3   1090713600    Phlip Nel gives silly Seuss a serious treatment   \n",
       "4   1107993600                             Good academic overview   \n",
       "5   1127174400         One of America's greatest creative talents   \n",
       "6   1100131200  A memorably excellent survey of Dr. Seuss' man...   \n",
       "7   1231200000                              Academia At It's Best   \n",
       "8   1209859200           And to think that I read it on the tram!   \n",
       "9   1076371200            Fascinating account of a genius at work   \n",
       "\n",
       "                                         review/text  \n",
       "0  This is only for Julie Strain fans. It's a col...  \n",
       "1  I don't care much for Dr. Seuss but after read...  \n",
       "2  If people become the books they read and if \"t...  \n",
       "3  Theodore Seuss Geisel (1904-1991), aka &quot;D...  \n",
       "4  Philip Nel - Dr. Seuss: American IconThis is b...  \n",
       "5  \"Dr. Seuss: American Icon\" by Philip Nel is a ...  \n",
       "6  Theodor Seuss Giesel was best known as 'Dr. Se...  \n",
       "7  When I recieved this book as a gift for Christ...  \n",
       "8  Trams (or any public transport) are not usuall...  \n",
       "9  As far as I am aware, this is the first book-l...  "
      ]
     },
     "execution_count": 18,
     "metadata": {},
     "output_type": "execute_result"
    }
   ],
   "source": [
    "ratings.head(10)"
   ]
  },
  {
   "cell_type": "code",
   "execution_count": 19,
   "id": "033463f2",
   "metadata": {},
   "outputs": [
    {
     "name": "stdout",
     "output_type": "stream",
     "text": [
      "           Id                     Title  Price         User_id  \\\n",
      "9  0826414346  Dr. Seuss: American Icon    NaN  A3VA4XFS5WNJO3   \n",
      "\n",
      "       profileName review/helpfulness  review/score  review/time  \\\n",
      "9  Donald Burnside                3/5           4.0   1076371200   \n",
      "\n",
      "                            review/summary  \\\n",
      "9  Fascinating account of a genius at work   \n",
      "\n",
      "                                         review/text  \n",
      "9  As far as I am aware, this is the first book-l...  \n"
     ]
    }
   ],
   "source": [
    "print(ratings.loc[ratings['profileName'] == 'Donald Burnside'])"
   ]
  },
  {
   "cell_type": "code",
   "execution_count": 20,
   "id": "cffc894b",
   "metadata": {},
   "outputs": [],
   "source": [
    "books = pd.read_csv('data/books_data.csv')"
   ]
  },
  {
   "cell_type": "code",
   "execution_count": 21,
   "id": "2aed3fdf",
   "metadata": {},
   "outputs": [],
   "source": [
    "def getLikedBooks(profileName):\n",
    "    liked_books = ratings.loc[ratings['profileName'] == profileName]\n",
    "    book_list = []\n",
    "    for index, row in liked_books.iterrows():\n",
    "        if row['review/score'] >= 5.0:\n",
    "            book_list.append(row['Title'])\n",
    "    return book_list\n",
    "\n",
    "def getBookDescription(title):\n",
    "    return books.loc[books['Title'] == title]"
   ]
  },
  {
   "cell_type": "code",
   "execution_count": 22,
   "id": "7ab5a14a",
   "metadata": {},
   "outputs": [
    {
     "name": "stdout",
     "output_type": "stream",
     "text": [
      "['Space Stations and Graveyards']\n"
     ]
    }
   ],
   "source": [
    "print(getLikedBooks('C. Brunner'))"
   ]
  },
  {
   "cell_type": "code",
   "execution_count": 23,
   "id": "52c3abc5",
   "metadata": {},
   "outputs": [],
   "source": [
    "title = getLikedBooks('C. Brunner')[0]\n",
    "description = getBookDescription(title).iloc[0]['description']\n",
    "new_title_summary = title + \" \" + description"
   ]
  },
  {
   "cell_type": "code",
   "execution_count": 24,
   "id": "1d0796ce",
   "metadata": {},
   "outputs": [
    {
     "name": "stdout",
     "output_type": "stream",
     "text": [
      "space stations graveyards space stations graveyards collaborative effort involving three talented young horror writers today . space stations graveyards collection 24 stories reflect love science fiction horror . many stories within actually amalgam two genres . book treat mind soul ... must read familiar talented writers ... got ta try !\n"
     ]
    }
   ],
   "source": [
    "new_tokenized = nltk.word_tokenize(clean_text(new_title_summary.lower()))\n",
    "new_tokenized = [word for word in new_tokenized if word not in (stop)]\n",
    "new_tokenized = ' '.join(new_tokenized)\n",
    "print(new_tokenized)"
   ]
  },
  {
   "cell_type": "code",
   "execution_count": 25,
   "id": "d436c657",
   "metadata": {},
   "outputs": [
    {
     "name": "stdout",
     "output_type": "stream",
     "text": [
      "[[1 1 0 0 0 0 0 0 0 0 0 0 0 0 0 0 0 0 0 0 0 0 0 0 1 0 0 0 0 0 0 0 0 0 0 0\n",
      "  0 0 0 0 0 0 0 0 0 0 0 0 0 0 0 0 0 0 0 0 0 0 0 0 0 0 0 0 0 0 0 0 0 0 0 0\n",
      "  0 0 0 0 0 0 0 0 0 0 0 0 0 0 0 0 0 0 0 0 0 0 0 0 0 0 0 0 0 0 0 0 0 0 0 0\n",
      "  0 0 0 0 0 0 0 0 0 0 0 0 0 0 0 0 0 0 0 0 0]]\n",
      "['Speculative fiction', 'Science Fiction', 'Short story']\n"
     ]
    }
   ],
   "source": [
    "new_tokenized_tfidf = vectorizer.transform([new_tokenized])\n",
    "new_pred = clf_1.predict(new_tokenized_tfidf)\n",
    "print(new_pred)\n",
    "print(getGenreNames(new_pred[0]))"
   ]
  },
  {
   "cell_type": "markdown",
   "id": "8ec5fe36",
   "metadata": {},
   "source": [
    "## Book Recommendations"
   ]
  },
  {
   "cell_type": "code",
   "execution_count": 28,
   "id": "7dcbe1a2",
   "metadata": {},
   "outputs": [
    {
     "name": "stdout",
     "output_type": "stream",
     "text": [
      "Defaulting to user installation because normal site-packages is not writeable\n",
      "Requirement already satisfied: spacy in /Users/cindyzastudil/Library/Python/3.11/lib/python/site-packages (3.7.4)\n",
      "Requirement already satisfied: spacy-legacy<3.1.0,>=3.0.11 in /Users/cindyzastudil/Library/Python/3.11/lib/python/site-packages (from spacy) (3.0.12)\n",
      "Requirement already satisfied: spacy-loggers<2.0.0,>=1.0.0 in /Users/cindyzastudil/Library/Python/3.11/lib/python/site-packages (from spacy) (1.0.5)\n",
      "Requirement already satisfied: murmurhash<1.1.0,>=0.28.0 in /Users/cindyzastudil/Library/Python/3.11/lib/python/site-packages (from spacy) (1.0.10)\n",
      "Requirement already satisfied: cymem<2.1.0,>=2.0.2 in /Users/cindyzastudil/Library/Python/3.11/lib/python/site-packages (from spacy) (2.0.8)\n",
      "Requirement already satisfied: preshed<3.1.0,>=3.0.2 in /Users/cindyzastudil/Library/Python/3.11/lib/python/site-packages (from spacy) (3.0.9)\n",
      "Requirement already satisfied: thinc<8.3.0,>=8.2.2 in /Users/cindyzastudil/Library/Python/3.11/lib/python/site-packages (from spacy) (8.2.3)\n",
      "Requirement already satisfied: wasabi<1.2.0,>=0.9.1 in /Users/cindyzastudil/Library/Python/3.11/lib/python/site-packages (from spacy) (1.1.2)\n",
      "Requirement already satisfied: srsly<3.0.0,>=2.4.3 in /Users/cindyzastudil/Library/Python/3.11/lib/python/site-packages (from spacy) (2.4.8)\n",
      "Requirement already satisfied: catalogue<2.1.0,>=2.0.6 in /Users/cindyzastudil/Library/Python/3.11/lib/python/site-packages (from spacy) (2.0.10)\n",
      "Requirement already satisfied: weasel<0.4.0,>=0.1.0 in /Users/cindyzastudil/Library/Python/3.11/lib/python/site-packages (from spacy) (0.3.4)\n",
      "Requirement already satisfied: typer<0.10.0,>=0.3.0 in /Users/cindyzastudil/Library/Python/3.11/lib/python/site-packages (from spacy) (0.9.4)\n",
      "Requirement already satisfied: smart-open<7.0.0,>=5.2.1 in /Users/cindyzastudil/Library/Python/3.11/lib/python/site-packages (from spacy) (6.4.0)\n",
      "Requirement already satisfied: tqdm<5.0.0,>=4.38.0 in /Library/Frameworks/Python.framework/Versions/3.11/lib/python3.11/site-packages (from spacy) (4.66.1)\n",
      "Requirement already satisfied: requests<3.0.0,>=2.13.0 in /Library/Frameworks/Python.framework/Versions/3.11/lib/python3.11/site-packages (from spacy) (2.31.0)\n",
      "Requirement already satisfied: pydantic!=1.8,!=1.8.1,<3.0.0,>=1.7.4 in /Users/cindyzastudil/Library/Python/3.11/lib/python/site-packages (from spacy) (2.7.0)\n",
      "Requirement already satisfied: jinja2 in /Library/Frameworks/Python.framework/Versions/3.11/lib/python3.11/site-packages (from spacy) (3.1.2)\n",
      "Requirement already satisfied: setuptools in /Library/Frameworks/Python.framework/Versions/3.11/lib/python3.11/site-packages (from spacy) (65.5.0)\n",
      "Requirement already satisfied: packaging>=20.0 in /Library/Frameworks/Python.framework/Versions/3.11/lib/python3.11/site-packages (from spacy) (23.2)\n",
      "Requirement already satisfied: langcodes<4.0.0,>=3.2.0 in /Users/cindyzastudil/Library/Python/3.11/lib/python/site-packages (from spacy) (3.3.0)\n",
      "Requirement already satisfied: numpy>=1.19.0 in /Library/Frameworks/Python.framework/Versions/3.11/lib/python3.11/site-packages (from spacy) (1.24.4)\n",
      "Requirement already satisfied: annotated-types>=0.4.0 in /Users/cindyzastudil/Library/Python/3.11/lib/python/site-packages (from pydantic!=1.8,!=1.8.1,<3.0.0,>=1.7.4->spacy) (0.6.0)\n",
      "Requirement already satisfied: pydantic-core==2.18.1 in /Users/cindyzastudil/Library/Python/3.11/lib/python/site-packages (from pydantic!=1.8,!=1.8.1,<3.0.0,>=1.7.4->spacy) (2.18.1)\n",
      "Requirement already satisfied: typing-extensions>=4.6.1 in /Library/Frameworks/Python.framework/Versions/3.11/lib/python3.11/site-packages (from pydantic!=1.8,!=1.8.1,<3.0.0,>=1.7.4->spacy) (4.8.0)\n",
      "Requirement already satisfied: charset-normalizer<4,>=2 in /Library/Frameworks/Python.framework/Versions/3.11/lib/python3.11/site-packages (from requests<3.0.0,>=2.13.0->spacy) (3.3.2)\n",
      "Requirement already satisfied: idna<4,>=2.5 in /Library/Frameworks/Python.framework/Versions/3.11/lib/python3.11/site-packages (from requests<3.0.0,>=2.13.0->spacy) (3.4)\n",
      "Requirement already satisfied: urllib3<3,>=1.21.1 in /Library/Frameworks/Python.framework/Versions/3.11/lib/python3.11/site-packages (from requests<3.0.0,>=2.13.0->spacy) (2.0.7)\n",
      "Requirement already satisfied: certifi>=2017.4.17 in /Library/Frameworks/Python.framework/Versions/3.11/lib/python3.11/site-packages (from requests<3.0.0,>=2.13.0->spacy) (2023.7.22)\n",
      "Requirement already satisfied: blis<0.8.0,>=0.7.8 in /Users/cindyzastudil/Library/Python/3.11/lib/python/site-packages (from thinc<8.3.0,>=8.2.2->spacy) (0.7.11)\n",
      "Requirement already satisfied: confection<1.0.0,>=0.0.1 in /Users/cindyzastudil/Library/Python/3.11/lib/python/site-packages (from thinc<8.3.0,>=8.2.2->spacy) (0.1.4)\n",
      "Requirement already satisfied: click<9.0.0,>=7.1.1 in /Library/Frameworks/Python.framework/Versions/3.11/lib/python3.11/site-packages (from typer<0.10.0,>=0.3.0->spacy) (8.1.7)\n",
      "Requirement already satisfied: cloudpathlib<0.17.0,>=0.7.0 in /Users/cindyzastudil/Library/Python/3.11/lib/python/site-packages (from weasel<0.4.0,>=0.1.0->spacy) (0.16.0)\n",
      "Requirement already satisfied: MarkupSafe>=2.0 in /Library/Frameworks/Python.framework/Versions/3.11/lib/python3.11/site-packages (from jinja2->spacy) (2.1.3)\n",
      "\n",
      "\u001b[1m[\u001b[0m\u001b[34;49mnotice\u001b[0m\u001b[1;39;49m]\u001b[0m\u001b[39;49m A new release of pip is available: \u001b[0m\u001b[31;49m23.1.2\u001b[0m\u001b[39;49m -> \u001b[0m\u001b[32;49m24.0\u001b[0m\n",
      "\u001b[1m[\u001b[0m\u001b[34;49mnotice\u001b[0m\u001b[1;39;49m]\u001b[0m\u001b[39;49m To update, run: \u001b[0m\u001b[32;49mpip3 install --upgrade pip\u001b[0m\n",
      "Defaulting to user installation because normal site-packages is not writeable\n",
      "Collecting en-core-web-sm==3.7.1\n",
      "  Downloading https://github.com/explosion/spacy-models/releases/download/en_core_web_sm-3.7.1/en_core_web_sm-3.7.1-py3-none-any.whl (12.8 MB)\n",
      "\u001b[2K     \u001b[90m━━━━━━━━━━━━━━━━━━━━━━━━━━━━━━━━━━━━━━━━\u001b[0m \u001b[32m12.8/12.8 MB\u001b[0m \u001b[31m8.8 MB/s\u001b[0m eta \u001b[36m0:00:00\u001b[0m00:01\u001b[0m00:01\u001b[0m\n",
      "\u001b[?25hRequirement already satisfied: spacy<3.8.0,>=3.7.2 in /Users/cindyzastudil/Library/Python/3.11/lib/python/site-packages (from en-core-web-sm==3.7.1) (3.7.4)\n",
      "Requirement already satisfied: spacy-legacy<3.1.0,>=3.0.11 in /Users/cindyzastudil/Library/Python/3.11/lib/python/site-packages (from spacy<3.8.0,>=3.7.2->en-core-web-sm==3.7.1) (3.0.12)\n",
      "Requirement already satisfied: spacy-loggers<2.0.0,>=1.0.0 in /Users/cindyzastudil/Library/Python/3.11/lib/python/site-packages (from spacy<3.8.0,>=3.7.2->en-core-web-sm==3.7.1) (1.0.5)\n",
      "Requirement already satisfied: murmurhash<1.1.0,>=0.28.0 in /Users/cindyzastudil/Library/Python/3.11/lib/python/site-packages (from spacy<3.8.0,>=3.7.2->en-core-web-sm==3.7.1) (1.0.10)\n",
      "Requirement already satisfied: cymem<2.1.0,>=2.0.2 in /Users/cindyzastudil/Library/Python/3.11/lib/python/site-packages (from spacy<3.8.0,>=3.7.2->en-core-web-sm==3.7.1) (2.0.8)\n",
      "Requirement already satisfied: preshed<3.1.0,>=3.0.2 in /Users/cindyzastudil/Library/Python/3.11/lib/python/site-packages (from spacy<3.8.0,>=3.7.2->en-core-web-sm==3.7.1) (3.0.9)\n",
      "Requirement already satisfied: thinc<8.3.0,>=8.2.2 in /Users/cindyzastudil/Library/Python/3.11/lib/python/site-packages (from spacy<3.8.0,>=3.7.2->en-core-web-sm==3.7.1) (8.2.3)\n",
      "Requirement already satisfied: wasabi<1.2.0,>=0.9.1 in /Users/cindyzastudil/Library/Python/3.11/lib/python/site-packages (from spacy<3.8.0,>=3.7.2->en-core-web-sm==3.7.1) (1.1.2)\n",
      "Requirement already satisfied: srsly<3.0.0,>=2.4.3 in /Users/cindyzastudil/Library/Python/3.11/lib/python/site-packages (from spacy<3.8.0,>=3.7.2->en-core-web-sm==3.7.1) (2.4.8)\n",
      "Requirement already satisfied: catalogue<2.1.0,>=2.0.6 in /Users/cindyzastudil/Library/Python/3.11/lib/python/site-packages (from spacy<3.8.0,>=3.7.2->en-core-web-sm==3.7.1) (2.0.10)\n",
      "Requirement already satisfied: weasel<0.4.0,>=0.1.0 in /Users/cindyzastudil/Library/Python/3.11/lib/python/site-packages (from spacy<3.8.0,>=3.7.2->en-core-web-sm==3.7.1) (0.3.4)\n",
      "Requirement already satisfied: typer<0.10.0,>=0.3.0 in /Users/cindyzastudil/Library/Python/3.11/lib/python/site-packages (from spacy<3.8.0,>=3.7.2->en-core-web-sm==3.7.1) (0.9.4)\n",
      "Requirement already satisfied: smart-open<7.0.0,>=5.2.1 in /Users/cindyzastudil/Library/Python/3.11/lib/python/site-packages (from spacy<3.8.0,>=3.7.2->en-core-web-sm==3.7.1) (6.4.0)\n",
      "Requirement already satisfied: tqdm<5.0.0,>=4.38.0 in /Library/Frameworks/Python.framework/Versions/3.11/lib/python3.11/site-packages (from spacy<3.8.0,>=3.7.2->en-core-web-sm==3.7.1) (4.66.1)\n",
      "Requirement already satisfied: requests<3.0.0,>=2.13.0 in /Library/Frameworks/Python.framework/Versions/3.11/lib/python3.11/site-packages (from spacy<3.8.0,>=3.7.2->en-core-web-sm==3.7.1) (2.31.0)\n",
      "Requirement already satisfied: pydantic!=1.8,!=1.8.1,<3.0.0,>=1.7.4 in /Users/cindyzastudil/Library/Python/3.11/lib/python/site-packages (from spacy<3.8.0,>=3.7.2->en-core-web-sm==3.7.1) (2.7.0)\n",
      "Requirement already satisfied: jinja2 in /Library/Frameworks/Python.framework/Versions/3.11/lib/python3.11/site-packages (from spacy<3.8.0,>=3.7.2->en-core-web-sm==3.7.1) (3.1.2)\n",
      "Requirement already satisfied: setuptools in /Library/Frameworks/Python.framework/Versions/3.11/lib/python3.11/site-packages (from spacy<3.8.0,>=3.7.2->en-core-web-sm==3.7.1) (65.5.0)\n",
      "Requirement already satisfied: packaging>=20.0 in /Library/Frameworks/Python.framework/Versions/3.11/lib/python3.11/site-packages (from spacy<3.8.0,>=3.7.2->en-core-web-sm==3.7.1) (23.2)\n",
      "Requirement already satisfied: langcodes<4.0.0,>=3.2.0 in /Users/cindyzastudil/Library/Python/3.11/lib/python/site-packages (from spacy<3.8.0,>=3.7.2->en-core-web-sm==3.7.1) (3.3.0)\n",
      "Requirement already satisfied: numpy>=1.19.0 in /Library/Frameworks/Python.framework/Versions/3.11/lib/python3.11/site-packages (from spacy<3.8.0,>=3.7.2->en-core-web-sm==3.7.1) (1.24.4)\n",
      "Requirement already satisfied: annotated-types>=0.4.0 in /Users/cindyzastudil/Library/Python/3.11/lib/python/site-packages (from pydantic!=1.8,!=1.8.1,<3.0.0,>=1.7.4->spacy<3.8.0,>=3.7.2->en-core-web-sm==3.7.1) (0.6.0)\n",
      "Requirement already satisfied: pydantic-core==2.18.1 in /Users/cindyzastudil/Library/Python/3.11/lib/python/site-packages (from pydantic!=1.8,!=1.8.1,<3.0.0,>=1.7.4->spacy<3.8.0,>=3.7.2->en-core-web-sm==3.7.1) (2.18.1)\n",
      "Requirement already satisfied: typing-extensions>=4.6.1 in /Library/Frameworks/Python.framework/Versions/3.11/lib/python3.11/site-packages (from pydantic!=1.8,!=1.8.1,<3.0.0,>=1.7.4->spacy<3.8.0,>=3.7.2->en-core-web-sm==3.7.1) (4.8.0)\n",
      "Requirement already satisfied: charset-normalizer<4,>=2 in /Library/Frameworks/Python.framework/Versions/3.11/lib/python3.11/site-packages (from requests<3.0.0,>=2.13.0->spacy<3.8.0,>=3.7.2->en-core-web-sm==3.7.1) (3.3.2)\n"
     ]
    },
    {
     "name": "stdout",
     "output_type": "stream",
     "text": [
      "Requirement already satisfied: idna<4,>=2.5 in /Library/Frameworks/Python.framework/Versions/3.11/lib/python3.11/site-packages (from requests<3.0.0,>=2.13.0->spacy<3.8.0,>=3.7.2->en-core-web-sm==3.7.1) (3.4)\n",
      "Requirement already satisfied: urllib3<3,>=1.21.1 in /Library/Frameworks/Python.framework/Versions/3.11/lib/python3.11/site-packages (from requests<3.0.0,>=2.13.0->spacy<3.8.0,>=3.7.2->en-core-web-sm==3.7.1) (2.0.7)\n",
      "Requirement already satisfied: certifi>=2017.4.17 in /Library/Frameworks/Python.framework/Versions/3.11/lib/python3.11/site-packages (from requests<3.0.0,>=2.13.0->spacy<3.8.0,>=3.7.2->en-core-web-sm==3.7.1) (2023.7.22)\n",
      "Requirement already satisfied: blis<0.8.0,>=0.7.8 in /Users/cindyzastudil/Library/Python/3.11/lib/python/site-packages (from thinc<8.3.0,>=8.2.2->spacy<3.8.0,>=3.7.2->en-core-web-sm==3.7.1) (0.7.11)\n",
      "Requirement already satisfied: confection<1.0.0,>=0.0.1 in /Users/cindyzastudil/Library/Python/3.11/lib/python/site-packages (from thinc<8.3.0,>=8.2.2->spacy<3.8.0,>=3.7.2->en-core-web-sm==3.7.1) (0.1.4)\n",
      "Requirement already satisfied: click<9.0.0,>=7.1.1 in /Library/Frameworks/Python.framework/Versions/3.11/lib/python3.11/site-packages (from typer<0.10.0,>=0.3.0->spacy<3.8.0,>=3.7.2->en-core-web-sm==3.7.1) (8.1.7)\n",
      "Requirement already satisfied: cloudpathlib<0.17.0,>=0.7.0 in /Users/cindyzastudil/Library/Python/3.11/lib/python/site-packages (from weasel<0.4.0,>=0.1.0->spacy<3.8.0,>=3.7.2->en-core-web-sm==3.7.1) (0.16.0)\n",
      "Requirement already satisfied: MarkupSafe>=2.0 in /Library/Frameworks/Python.framework/Versions/3.11/lib/python3.11/site-packages (from jinja2->spacy<3.8.0,>=3.7.2->en-core-web-sm==3.7.1) (2.1.3)\n",
      "\n",
      "\u001b[1m[\u001b[0m\u001b[34;49mnotice\u001b[0m\u001b[1;39;49m]\u001b[0m\u001b[39;49m A new release of pip is available: \u001b[0m\u001b[31;49m23.1.2\u001b[0m\u001b[39;49m -> \u001b[0m\u001b[32;49m24.0\u001b[0m\n",
      "\u001b[1m[\u001b[0m\u001b[34;49mnotice\u001b[0m\u001b[1;39;49m]\u001b[0m\u001b[39;49m To update, run: \u001b[0m\u001b[32;49mpip3 install --upgrade pip\u001b[0m\n",
      "\u001b[38;5;2m✔ Download and installation successful\u001b[0m\n",
      "You can now load the package via spacy.load('en_core_web_sm')\n"
     ]
    }
   ],
   "source": [
    "!pip3 install spacy\n",
    "!python3 -m spacy download en_core_web_sm"
   ]
  },
  {
   "cell_type": "code",
   "execution_count": 29,
   "id": "b73b7ca8",
   "metadata": {},
   "outputs": [
    {
     "ename": "OSError",
     "evalue": "[E050] Can't find model 'en_core_web_sm'. It doesn't seem to be a Python package or a valid path to a data directory.",
     "output_type": "error",
     "traceback": [
      "\u001b[0;31m---------------------------------------------------------------------------\u001b[0m",
      "\u001b[0;31mOSError\u001b[0m                                   Traceback (most recent call last)",
      "Cell \u001b[0;32mIn[29], line 2\u001b[0m\n\u001b[1;32m      1\u001b[0m \u001b[38;5;28;01mimport\u001b[39;00m \u001b[38;5;21;01mspacy\u001b[39;00m\n\u001b[0;32m----> 2\u001b[0m nlp \u001b[38;5;241m=\u001b[39m \u001b[43mspacy\u001b[49m\u001b[38;5;241;43m.\u001b[39;49m\u001b[43mload\u001b[49m\u001b[43m(\u001b[49m\u001b[38;5;124;43m\"\u001b[39;49m\u001b[38;5;124;43men_core_web_sm\u001b[39;49m\u001b[38;5;124;43m\"\u001b[39;49m\u001b[43m)\u001b[49m\n\u001b[1;32m      4\u001b[0m book_recs \u001b[38;5;241m=\u001b[39m pd\u001b[38;5;241m.\u001b[39mread_csv(\u001b[38;5;124m'\u001b[39m\u001b[38;5;124mgenre_pre_tfidf.csv\u001b[39m\u001b[38;5;124m'\u001b[39m)\n\u001b[1;32m      5\u001b[0m highest_sim \u001b[38;5;241m=\u001b[39m \u001b[38;5;241m-\u001b[39m\u001b[38;5;241m1\u001b[39m\n",
      "File \u001b[0;32m/usr/local/lib/python3.9/site-packages/spacy/__init__.py:51\u001b[0m, in \u001b[0;36mload\u001b[0;34m(name, vocab, disable, enable, exclude, config)\u001b[0m\n\u001b[1;32m     27\u001b[0m \u001b[38;5;28;01mdef\u001b[39;00m \u001b[38;5;21mload\u001b[39m(\n\u001b[1;32m     28\u001b[0m     name: Union[\u001b[38;5;28mstr\u001b[39m, Path],\n\u001b[1;32m     29\u001b[0m     \u001b[38;5;241m*\u001b[39m,\n\u001b[0;32m   (...)\u001b[0m\n\u001b[1;32m     34\u001b[0m     config: Union[Dict[\u001b[38;5;28mstr\u001b[39m, Any], Config] \u001b[38;5;241m=\u001b[39m util\u001b[38;5;241m.\u001b[39mSimpleFrozenDict(),\n\u001b[1;32m     35\u001b[0m ) \u001b[38;5;241m-\u001b[39m\u001b[38;5;241m>\u001b[39m Language:\n\u001b[1;32m     36\u001b[0m \u001b[38;5;250m    \u001b[39m\u001b[38;5;124;03m\"\"\"Load a spaCy model from an installed package or a local path.\u001b[39;00m\n\u001b[1;32m     37\u001b[0m \n\u001b[1;32m     38\u001b[0m \u001b[38;5;124;03m    name (str): Package name or model path.\u001b[39;00m\n\u001b[0;32m   (...)\u001b[0m\n\u001b[1;32m     49\u001b[0m \u001b[38;5;124;03m    RETURNS (Language): The loaded nlp object.\u001b[39;00m\n\u001b[1;32m     50\u001b[0m \u001b[38;5;124;03m    \"\"\"\u001b[39;00m\n\u001b[0;32m---> 51\u001b[0m     \u001b[38;5;28;01mreturn\u001b[39;00m \u001b[43mutil\u001b[49m\u001b[38;5;241;43m.\u001b[39;49m\u001b[43mload_model\u001b[49m\u001b[43m(\u001b[49m\n\u001b[1;32m     52\u001b[0m \u001b[43m        \u001b[49m\u001b[43mname\u001b[49m\u001b[43m,\u001b[49m\n\u001b[1;32m     53\u001b[0m \u001b[43m        \u001b[49m\u001b[43mvocab\u001b[49m\u001b[38;5;241;43m=\u001b[39;49m\u001b[43mvocab\u001b[49m\u001b[43m,\u001b[49m\n\u001b[1;32m     54\u001b[0m \u001b[43m        \u001b[49m\u001b[43mdisable\u001b[49m\u001b[38;5;241;43m=\u001b[39;49m\u001b[43mdisable\u001b[49m\u001b[43m,\u001b[49m\n\u001b[1;32m     55\u001b[0m \u001b[43m        \u001b[49m\u001b[43menable\u001b[49m\u001b[38;5;241;43m=\u001b[39;49m\u001b[43menable\u001b[49m\u001b[43m,\u001b[49m\n\u001b[1;32m     56\u001b[0m \u001b[43m        \u001b[49m\u001b[43mexclude\u001b[49m\u001b[38;5;241;43m=\u001b[39;49m\u001b[43mexclude\u001b[49m\u001b[43m,\u001b[49m\n\u001b[1;32m     57\u001b[0m \u001b[43m        \u001b[49m\u001b[43mconfig\u001b[49m\u001b[38;5;241;43m=\u001b[39;49m\u001b[43mconfig\u001b[49m\u001b[43m,\u001b[49m\n\u001b[1;32m     58\u001b[0m \u001b[43m    \u001b[49m\u001b[43m)\u001b[49m\n",
      "File \u001b[0;32m/usr/local/lib/python3.9/site-packages/spacy/util.py:472\u001b[0m, in \u001b[0;36mload_model\u001b[0;34m(name, vocab, disable, enable, exclude, config)\u001b[0m\n\u001b[1;32m    470\u001b[0m \u001b[38;5;28;01mif\u001b[39;00m name \u001b[38;5;129;01min\u001b[39;00m OLD_MODEL_SHORTCUTS:\n\u001b[1;32m    471\u001b[0m     \u001b[38;5;28;01mraise\u001b[39;00m \u001b[38;5;167;01mIOError\u001b[39;00m(Errors\u001b[38;5;241m.\u001b[39mE941\u001b[38;5;241m.\u001b[39mformat(name\u001b[38;5;241m=\u001b[39mname, full\u001b[38;5;241m=\u001b[39mOLD_MODEL_SHORTCUTS[name]))  \u001b[38;5;66;03m# type: ignore[index]\u001b[39;00m\n\u001b[0;32m--> 472\u001b[0m \u001b[38;5;28;01mraise\u001b[39;00m \u001b[38;5;167;01mIOError\u001b[39;00m(Errors\u001b[38;5;241m.\u001b[39mE050\u001b[38;5;241m.\u001b[39mformat(name\u001b[38;5;241m=\u001b[39mname))\n",
      "\u001b[0;31mOSError\u001b[0m: [E050] Can't find model 'en_core_web_sm'. It doesn't seem to be a Python package or a valid path to a data directory."
     ]
    }
   ],
   "source": [
    "import spacy\n",
    "nlp = spacy.load(\"en_core_web_sm\")\n",
    "\n",
    "book_recs = pd.read_csv('genre_pre_tfidf.csv')\n",
    "highest_sim = -1\n",
    "title = ''\n",
    "for index,row in book_recs.iterrows():\n",
    "    if 'Speculative fiction' in row['Predicted_Genres']:\n",
    "        sim = row['title_summary'].similarity(new_tokenized)\n",
    "        print(sim)\n",
    "        if sim > highest_sim:\n",
    "            title = row['title']\n",
    "print(\"Recommendations:\", title)"
   ]
  },
  {
   "cell_type": "code",
   "execution_count": null,
   "id": "0ed0d9a6",
   "metadata": {},
   "outputs": [],
   "source": []
  }
 ],
 "metadata": {
  "kernelspec": {
   "display_name": "Python 3 (ipykernel)",
   "language": "python",
   "name": "python3"
  },
  "language_info": {
   "codemirror_mode": {
    "name": "ipython",
    "version": 3
   },
   "file_extension": ".py",
   "mimetype": "text/x-python",
   "name": "python",
   "nbconvert_exporter": "python",
   "pygments_lexer": "ipython3",
   "version": "3.9.16"
  }
 },
 "nbformat": 4,
 "nbformat_minor": 5
}
